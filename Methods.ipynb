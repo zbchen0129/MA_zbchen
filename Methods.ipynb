{
 "cells": [
  {
   "cell_type": "code",
   "execution_count": 1,
   "id": "90b3e972",
   "metadata": {},
   "outputs": [],
   "source": [
    "import pandas as pd\n",
    "import numpy as np\n",
    "\n",
    "import seaborn as sns\n",
    "import matplotlib.pyplot as plt\n",
    "\n",
    "from scipy.stats import ttest_ind, f_oneway\n",
    "import statsmodels.api as sm\n",
    "import statsmodels.formula.api as smf\n",
    "\n",
    "\n",
    "from sklearn.linear_model import LinearRegression"
   ]
  },
  {
   "cell_type": "code",
   "execution_count": 3,
   "id": "62e99ad2",
   "metadata": {},
   "outputs": [],
   "source": [
    "g2_df = pd.read_csv(\"/Users/chenzhibin/Desktop/MA_data/g2_data.csv\", index_col=0)\n",
    "g3_df = pd.read_csv(\"/Users/chenzhibin/Desktop/MA_data/g3_data.csv\", index_col=0)"
   ]
  },
  {
   "cell_type": "code",
   "execution_count": 4,
   "id": "5bb4d187",
   "metadata": {},
   "outputs": [
    {
     "data": {
      "text/html": [
       "<div>\n",
       "<style scoped>\n",
       "    .dataframe tbody tr th:only-of-type {\n",
       "        vertical-align: middle;\n",
       "    }\n",
       "\n",
       "    .dataframe tbody tr th {\n",
       "        vertical-align: top;\n",
       "    }\n",
       "\n",
       "    .dataframe thead th {\n",
       "        text-align: right;\n",
       "    }\n",
       "</style>\n",
       "<table border=\"1\" class=\"dataframe\">\n",
       "  <thead>\n",
       "    <tr style=\"text-align: right;\">\n",
       "      <th></th>\n",
       "      <th>pid</th>\n",
       "      <th>gender</th>\n",
       "      <th>birth_year</th>\n",
       "      <th>urban</th>\n",
       "      <th>familysize</th>\n",
       "      <th>edu_level</th>\n",
       "      <th>edu_level_f</th>\n",
       "      <th>edu_level_m</th>\n",
       "      <th>edu_level_parent</th>\n",
       "      <th>edu_percentile_score</th>\n",
       "      <th>edu_percentile_score_parent</th>\n",
       "      <th>living_area</th>\n",
       "      <th>edu_improvement</th>\n",
       "      <th>edu_rank_improvement</th>\n",
       "      <th>edu_year</th>\n",
       "      <th>edu_year_f</th>\n",
       "      <th>edu_year_m</th>\n",
       "      <th>eduy_parent</th>\n",
       "      <th>eduy_improvement</th>\n",
       "    </tr>\n",
       "  </thead>\n",
       "  <tbody>\n",
       "    <tr>\n",
       "      <th>0</th>\n",
       "      <td>100051501.0</td>\n",
       "      <td>Female</td>\n",
       "      <td>1969.0</td>\n",
       "      <td>1.0</td>\n",
       "      <td>3.0</td>\n",
       "      <td>4.0</td>\n",
       "      <td>2.0</td>\n",
       "      <td>1.0</td>\n",
       "      <td>1.5</td>\n",
       "      <td>0.911794</td>\n",
       "      <td>0.782161</td>\n",
       "      <td>urban</td>\n",
       "      <td>2.5</td>\n",
       "      <td>0.129632</td>\n",
       "      <td>12.0</td>\n",
       "      <td>6.0</td>\n",
       "      <td>3.0</td>\n",
       "      <td>4.5</td>\n",
       "      <td>7.5</td>\n",
       "    </tr>\n",
       "    <tr>\n",
       "      <th>1</th>\n",
       "      <td>100051502.0</td>\n",
       "      <td>Male</td>\n",
       "      <td>1966.0</td>\n",
       "      <td>1.0</td>\n",
       "      <td>3.0</td>\n",
       "      <td>4.0</td>\n",
       "      <td>1.0</td>\n",
       "      <td>1.0</td>\n",
       "      <td>1.0</td>\n",
       "      <td>0.911794</td>\n",
       "      <td>0.354034</td>\n",
       "      <td>urban</td>\n",
       "      <td>3.0</td>\n",
       "      <td>0.557760</td>\n",
       "      <td>12.0</td>\n",
       "      <td>3.0</td>\n",
       "      <td>3.0</td>\n",
       "      <td>3.0</td>\n",
       "      <td>9.0</td>\n",
       "    </tr>\n",
       "    <tr>\n",
       "      <th>10</th>\n",
       "      <td>102571551.0</td>\n",
       "      <td>Female</td>\n",
       "      <td>1945.0</td>\n",
       "      <td>0.0</td>\n",
       "      <td>3.0</td>\n",
       "      <td>1.0</td>\n",
       "      <td>1.0</td>\n",
       "      <td>1.0</td>\n",
       "      <td>1.0</td>\n",
       "      <td>0.191167</td>\n",
       "      <td>0.354034</td>\n",
       "      <td>rural</td>\n",
       "      <td>0.0</td>\n",
       "      <td>-0.162867</td>\n",
       "      <td>3.0</td>\n",
       "      <td>3.0</td>\n",
       "      <td>3.0</td>\n",
       "      <td>3.0</td>\n",
       "      <td>0.0</td>\n",
       "    </tr>\n",
       "    <tr>\n",
       "      <th>11</th>\n",
       "      <td>102571552.0</td>\n",
       "      <td>Male</td>\n",
       "      <td>1948.0</td>\n",
       "      <td>0.0</td>\n",
       "      <td>3.0</td>\n",
       "      <td>2.0</td>\n",
       "      <td>1.0</td>\n",
       "      <td>1.0</td>\n",
       "      <td>1.0</td>\n",
       "      <td>0.497409</td>\n",
       "      <td>0.354034</td>\n",
       "      <td>rural</td>\n",
       "      <td>1.0</td>\n",
       "      <td>0.143375</td>\n",
       "      <td>6.0</td>\n",
       "      <td>3.0</td>\n",
       "      <td>3.0</td>\n",
       "      <td>3.0</td>\n",
       "      <td>3.0</td>\n",
       "    </tr>\n",
       "    <tr>\n",
       "      <th>35</th>\n",
       "      <td>110006101.0</td>\n",
       "      <td>Male</td>\n",
       "      <td>1960.0</td>\n",
       "      <td>1.0</td>\n",
       "      <td>3.0</td>\n",
       "      <td>3.0</td>\n",
       "      <td>1.0</td>\n",
       "      <td>1.0</td>\n",
       "      <td>1.0</td>\n",
       "      <td>0.732494</td>\n",
       "      <td>0.354034</td>\n",
       "      <td>urban</td>\n",
       "      <td>2.0</td>\n",
       "      <td>0.378460</td>\n",
       "      <td>9.0</td>\n",
       "      <td>3.0</td>\n",
       "      <td>3.0</td>\n",
       "      <td>3.0</td>\n",
       "      <td>6.0</td>\n",
       "    </tr>\n",
       "    <tr>\n",
       "      <th>...</th>\n",
       "      <td>...</td>\n",
       "      <td>...</td>\n",
       "      <td>...</td>\n",
       "      <td>...</td>\n",
       "      <td>...</td>\n",
       "      <td>...</td>\n",
       "      <td>...</td>\n",
       "      <td>...</td>\n",
       "      <td>...</td>\n",
       "      <td>...</td>\n",
       "      <td>...</td>\n",
       "      <td>...</td>\n",
       "      <td>...</td>\n",
       "      <td>...</td>\n",
       "      <td>...</td>\n",
       "      <td>...</td>\n",
       "      <td>...</td>\n",
       "      <td>...</td>\n",
       "      <td>...</td>\n",
       "    </tr>\n",
       "    <tr>\n",
       "      <th>53241</th>\n",
       "      <td>621343203.0</td>\n",
       "      <td>Female</td>\n",
       "      <td>1968.0</td>\n",
       "      <td>1.0</td>\n",
       "      <td>8.0</td>\n",
       "      <td>1.0</td>\n",
       "      <td>3.0</td>\n",
       "      <td>1.0</td>\n",
       "      <td>2.0</td>\n",
       "      <td>0.191167</td>\n",
       "      <td>0.895460</td>\n",
       "      <td>urban</td>\n",
       "      <td>-1.0</td>\n",
       "      <td>-0.704293</td>\n",
       "      <td>3.0</td>\n",
       "      <td>9.0</td>\n",
       "      <td>3.0</td>\n",
       "      <td>6.0</td>\n",
       "      <td>-3.0</td>\n",
       "    </tr>\n",
       "    <tr>\n",
       "      <th>53249</th>\n",
       "      <td>441118204.0</td>\n",
       "      <td>Male</td>\n",
       "      <td>1968.0</td>\n",
       "      <td>1.0</td>\n",
       "      <td>3.0</td>\n",
       "      <td>3.0</td>\n",
       "      <td>1.0</td>\n",
       "      <td>1.0</td>\n",
       "      <td>1.0</td>\n",
       "      <td>0.732494</td>\n",
       "      <td>0.354034</td>\n",
       "      <td>urban</td>\n",
       "      <td>2.0</td>\n",
       "      <td>0.378460</td>\n",
       "      <td>9.0</td>\n",
       "      <td>3.0</td>\n",
       "      <td>3.0</td>\n",
       "      <td>3.0</td>\n",
       "      <td>6.0</td>\n",
       "    </tr>\n",
       "    <tr>\n",
       "      <th>53282</th>\n",
       "      <td>669499651.0</td>\n",
       "      <td>Male</td>\n",
       "      <td>1959.0</td>\n",
       "      <td>0.0</td>\n",
       "      <td>3.0</td>\n",
       "      <td>3.0</td>\n",
       "      <td>1.0</td>\n",
       "      <td>1.0</td>\n",
       "      <td>1.0</td>\n",
       "      <td>0.732494</td>\n",
       "      <td>0.354034</td>\n",
       "      <td>rural</td>\n",
       "      <td>2.0</td>\n",
       "      <td>0.378460</td>\n",
       "      <td>9.0</td>\n",
       "      <td>3.0</td>\n",
       "      <td>3.0</td>\n",
       "      <td>3.0</td>\n",
       "      <td>6.0</td>\n",
       "    </tr>\n",
       "    <tr>\n",
       "      <th>53283</th>\n",
       "      <td>669499652.0</td>\n",
       "      <td>Female</td>\n",
       "      <td>1959.0</td>\n",
       "      <td>0.0</td>\n",
       "      <td>3.0</td>\n",
       "      <td>1.0</td>\n",
       "      <td>1.0</td>\n",
       "      <td>1.0</td>\n",
       "      <td>1.0</td>\n",
       "      <td>0.191167</td>\n",
       "      <td>0.354034</td>\n",
       "      <td>rural</td>\n",
       "      <td>0.0</td>\n",
       "      <td>-0.162867</td>\n",
       "      <td>3.0</td>\n",
       "      <td>3.0</td>\n",
       "      <td>3.0</td>\n",
       "      <td>3.0</td>\n",
       "      <td>0.0</td>\n",
       "    </tr>\n",
       "    <tr>\n",
       "      <th>53304</th>\n",
       "      <td>411662207.0</td>\n",
       "      <td>Male</td>\n",
       "      <td>1957.0</td>\n",
       "      <td>1.0</td>\n",
       "      <td>4.0</td>\n",
       "      <td>3.0</td>\n",
       "      <td>1.0</td>\n",
       "      <td>1.0</td>\n",
       "      <td>1.0</td>\n",
       "      <td>0.732494</td>\n",
       "      <td>0.354034</td>\n",
       "      <td>urban</td>\n",
       "      <td>2.0</td>\n",
       "      <td>0.378460</td>\n",
       "      <td>9.0</td>\n",
       "      <td>3.0</td>\n",
       "      <td>3.0</td>\n",
       "      <td>3.0</td>\n",
       "      <td>6.0</td>\n",
       "    </tr>\n",
       "  </tbody>\n",
       "</table>\n",
       "<p>20265 rows × 19 columns</p>\n",
       "</div>"
      ],
      "text/plain": [
       "               pid  gender  birth_year  urban  familysize  edu_level  \\\n",
       "0      100051501.0  Female      1969.0    1.0         3.0        4.0   \n",
       "1      100051502.0    Male      1966.0    1.0         3.0        4.0   \n",
       "10     102571551.0  Female      1945.0    0.0         3.0        1.0   \n",
       "11     102571552.0    Male      1948.0    0.0         3.0        2.0   \n",
       "35     110006101.0    Male      1960.0    1.0         3.0        3.0   \n",
       "...            ...     ...         ...    ...         ...        ...   \n",
       "53241  621343203.0  Female      1968.0    1.0         8.0        1.0   \n",
       "53249  441118204.0    Male      1968.0    1.0         3.0        3.0   \n",
       "53282  669499651.0    Male      1959.0    0.0         3.0        3.0   \n",
       "53283  669499652.0  Female      1959.0    0.0         3.0        1.0   \n",
       "53304  411662207.0    Male      1957.0    1.0         4.0        3.0   \n",
       "\n",
       "       edu_level_f  edu_level_m  edu_level_parent  edu_percentile_score  \\\n",
       "0              2.0          1.0               1.5              0.911794   \n",
       "1              1.0          1.0               1.0              0.911794   \n",
       "10             1.0          1.0               1.0              0.191167   \n",
       "11             1.0          1.0               1.0              0.497409   \n",
       "35             1.0          1.0               1.0              0.732494   \n",
       "...            ...          ...               ...                   ...   \n",
       "53241          3.0          1.0               2.0              0.191167   \n",
       "53249          1.0          1.0               1.0              0.732494   \n",
       "53282          1.0          1.0               1.0              0.732494   \n",
       "53283          1.0          1.0               1.0              0.191167   \n",
       "53304          1.0          1.0               1.0              0.732494   \n",
       "\n",
       "       edu_percentile_score_parent living_area  edu_improvement  \\\n",
       "0                         0.782161       urban              2.5   \n",
       "1                         0.354034       urban              3.0   \n",
       "10                        0.354034       rural              0.0   \n",
       "11                        0.354034       rural              1.0   \n",
       "35                        0.354034       urban              2.0   \n",
       "...                            ...         ...              ...   \n",
       "53241                     0.895460       urban             -1.0   \n",
       "53249                     0.354034       urban              2.0   \n",
       "53282                     0.354034       rural              2.0   \n",
       "53283                     0.354034       rural              0.0   \n",
       "53304                     0.354034       urban              2.0   \n",
       "\n",
       "       edu_rank_improvement  edu_year  edu_year_f  edu_year_m  eduy_parent  \\\n",
       "0                  0.129632      12.0         6.0         3.0          4.5   \n",
       "1                  0.557760      12.0         3.0         3.0          3.0   \n",
       "10                -0.162867       3.0         3.0         3.0          3.0   \n",
       "11                 0.143375       6.0         3.0         3.0          3.0   \n",
       "35                 0.378460       9.0         3.0         3.0          3.0   \n",
       "...                     ...       ...         ...         ...          ...   \n",
       "53241             -0.704293       3.0         9.0         3.0          6.0   \n",
       "53249              0.378460       9.0         3.0         3.0          3.0   \n",
       "53282              0.378460       9.0         3.0         3.0          3.0   \n",
       "53283             -0.162867       3.0         3.0         3.0          3.0   \n",
       "53304              0.378460       9.0         3.0         3.0          3.0   \n",
       "\n",
       "       eduy_improvement  \n",
       "0                   7.5  \n",
       "1                   9.0  \n",
       "10                  0.0  \n",
       "11                  3.0  \n",
       "35                  6.0  \n",
       "...                 ...  \n",
       "53241              -3.0  \n",
       "53249               6.0  \n",
       "53282               6.0  \n",
       "53283               0.0  \n",
       "53304               6.0  \n",
       "\n",
       "[20265 rows x 19 columns]"
      ]
     },
     "execution_count": 4,
     "metadata": {},
     "output_type": "execute_result"
    }
   ],
   "source": [
    "g2_df"
   ]
  },
  {
   "cell_type": "code",
   "execution_count": 236,
   "id": "b02c612a",
   "metadata": {},
   "outputs": [
    {
     "data": {
      "text/html": [
       "<div>\n",
       "<style scoped>\n",
       "    .dataframe tbody tr th:only-of-type {\n",
       "        vertical-align: middle;\n",
       "    }\n",
       "\n",
       "    .dataframe tbody tr th {\n",
       "        vertical-align: top;\n",
       "    }\n",
       "\n",
       "    .dataframe thead th {\n",
       "        text-align: right;\n",
       "    }\n",
       "</style>\n",
       "<table border=\"1\" class=\"dataframe\">\n",
       "  <thead>\n",
       "    <tr style=\"text-align: right;\">\n",
       "      <th></th>\n",
       "      <th>pid</th>\n",
       "      <th>birth_year</th>\n",
       "      <th>urban</th>\n",
       "      <th>familysize</th>\n",
       "      <th>edu_level</th>\n",
       "      <th>edu_level_f</th>\n",
       "      <th>edu_level_m</th>\n",
       "      <th>edu_level_parent</th>\n",
       "      <th>edu_percentile_score</th>\n",
       "      <th>edu_percentile_score_parent</th>\n",
       "      <th>edu_improvement</th>\n",
       "      <th>edu_rank_improvement</th>\n",
       "      <th>edu_year</th>\n",
       "      <th>edu_year_f</th>\n",
       "      <th>edu_year_m</th>\n",
       "      <th>eduy_parent</th>\n",
       "      <th>eduy_improvement</th>\n",
       "    </tr>\n",
       "  </thead>\n",
       "  <tbody>\n",
       "    <tr>\n",
       "      <th>count</th>\n",
       "      <td>2.026500e+04</td>\n",
       "      <td>20265.000000</td>\n",
       "      <td>20265.000000</td>\n",
       "      <td>20265.000000</td>\n",
       "      <td>20265.000000</td>\n",
       "      <td>20265.000000</td>\n",
       "      <td>20265.000000</td>\n",
       "      <td>20265.000000</td>\n",
       "      <td>20265.000000</td>\n",
       "      <td>20265.000000</td>\n",
       "      <td>20265.000000</td>\n",
       "      <td>2.026500e+04</td>\n",
       "      <td>20265.000000</td>\n",
       "      <td>20265.000000</td>\n",
       "      <td>20265.000000</td>\n",
       "      <td>20265.000000</td>\n",
       "      <td>20265.000000</td>\n",
       "    </tr>\n",
       "    <tr>\n",
       "      <th>mean</th>\n",
       "      <td>3.814807e+08</td>\n",
       "      <td>1956.782235</td>\n",
       "      <td>0.434690</td>\n",
       "      <td>4.045941</td>\n",
       "      <td>2.189835</td>\n",
       "      <td>1.407155</td>\n",
       "      <td>1.157217</td>\n",
       "      <td>1.282186</td>\n",
       "      <td>0.500025</td>\n",
       "      <td>0.500025</td>\n",
       "      <td>0.907649</td>\n",
       "      <td>1.180496e-15</td>\n",
       "      <td>6.553886</td>\n",
       "      <td>4.211004</td>\n",
       "      <td>3.468739</td>\n",
       "      <td>3.839872</td>\n",
       "      <td>2.714014</td>\n",
       "    </tr>\n",
       "    <tr>\n",
       "      <th>std</th>\n",
       "      <td>1.476185e+08</td>\n",
       "      <td>8.198028</td>\n",
       "      <td>0.495729</td>\n",
       "      <td>2.000027</td>\n",
       "      <td>1.174280</td>\n",
       "      <td>0.823005</td>\n",
       "      <td>0.513685</td>\n",
       "      <td>0.568018</td>\n",
       "      <td>0.276357</td>\n",
       "      <td>0.231180</td>\n",
       "      <td>1.149502</td>\n",
       "      <td>3.059260e-01</td>\n",
       "      <td>3.475374</td>\n",
       "      <td>2.412271</td>\n",
       "      <td>1.511511</td>\n",
       "      <td>1.668156</td>\n",
       "      <td>3.396505</td>\n",
       "    </tr>\n",
       "    <tr>\n",
       "      <th>min</th>\n",
       "      <td>1.000515e+08</td>\n",
       "      <td>1940.000000</td>\n",
       "      <td>0.000000</td>\n",
       "      <td>1.000000</td>\n",
       "      <td>1.000000</td>\n",
       "      <td>1.000000</td>\n",
       "      <td>1.000000</td>\n",
       "      <td>1.000000</td>\n",
       "      <td>0.191167</td>\n",
       "      <td>0.354034</td>\n",
       "      <td>-5.000000</td>\n",
       "      <td>-8.082408e-01</td>\n",
       "      <td>3.000000</td>\n",
       "      <td>3.000000</td>\n",
       "      <td>3.000000</td>\n",
       "      <td>3.000000</td>\n",
       "      <td>-12.000000</td>\n",
       "    </tr>\n",
       "    <tr>\n",
       "      <th>25%</th>\n",
       "      <td>2.305581e+08</td>\n",
       "      <td>1950.000000</td>\n",
       "      <td>0.000000</td>\n",
       "      <td>2.000000</td>\n",
       "      <td>1.000000</td>\n",
       "      <td>1.000000</td>\n",
       "      <td>1.000000</td>\n",
       "      <td>1.000000</td>\n",
       "      <td>0.191167</td>\n",
       "      <td>0.354034</td>\n",
       "      <td>0.000000</td>\n",
       "      <td>-1.628670e-01</td>\n",
       "      <td>3.000000</td>\n",
       "      <td>3.000000</td>\n",
       "      <td>3.000000</td>\n",
       "      <td>3.000000</td>\n",
       "      <td>0.000000</td>\n",
       "    </tr>\n",
       "    <tr>\n",
       "      <th>50%</th>\n",
       "      <td>4.104281e+08</td>\n",
       "      <td>1957.000000</td>\n",
       "      <td>0.000000</td>\n",
       "      <td>4.000000</td>\n",
       "      <td>2.000000</td>\n",
       "      <td>1.000000</td>\n",
       "      <td>1.000000</td>\n",
       "      <td>1.000000</td>\n",
       "      <td>0.497409</td>\n",
       "      <td>0.354034</td>\n",
       "      <td>1.000000</td>\n",
       "      <td>-6.415001e-02</td>\n",
       "      <td>6.000000</td>\n",
       "      <td>3.000000</td>\n",
       "      <td>3.000000</td>\n",
       "      <td>3.000000</td>\n",
       "      <td>3.000000</td>\n",
       "    </tr>\n",
       "    <tr>\n",
       "      <th>75%</th>\n",
       "      <td>5.003171e+08</td>\n",
       "      <td>1964.000000</td>\n",
       "      <td>1.000000</td>\n",
       "      <td>5.000000</td>\n",
       "      <td>3.000000</td>\n",
       "      <td>2.000000</td>\n",
       "      <td>1.000000</td>\n",
       "      <td>1.500000</td>\n",
       "      <td>0.732494</td>\n",
       "      <td>0.782161</td>\n",
       "      <td>2.000000</td>\n",
       "      <td>1.433753e-01</td>\n",
       "      <td>9.000000</td>\n",
       "      <td>6.000000</td>\n",
       "      <td>3.000000</td>\n",
       "      <td>4.500000</td>\n",
       "      <td>6.000000</td>\n",
       "    </tr>\n",
       "    <tr>\n",
       "      <th>max</th>\n",
       "      <td>9.623774e+08</td>\n",
       "      <td>1969.000000</td>\n",
       "      <td>1.000000</td>\n",
       "      <td>19.000000</td>\n",
       "      <td>7.000000</td>\n",
       "      <td>8.000000</td>\n",
       "      <td>8.000000</td>\n",
       "      <td>8.000000</td>\n",
       "      <td>0.999803</td>\n",
       "      <td>1.000000</td>\n",
       "      <td>6.000000</td>\n",
       "      <td>6.457686e-01</td>\n",
       "      <td>18.500000</td>\n",
       "      <td>21.000000</td>\n",
       "      <td>21.000000</td>\n",
       "      <td>21.000000</td>\n",
       "      <td>15.500000</td>\n",
       "    </tr>\n",
       "  </tbody>\n",
       "</table>\n",
       "</div>"
      ],
      "text/plain": [
       "                pid    birth_year         urban    familysize     edu_level  \\\n",
       "count  2.026500e+04  20265.000000  20265.000000  20265.000000  20265.000000   \n",
       "mean   3.814807e+08   1956.782235      0.434690      4.045941      2.189835   \n",
       "std    1.476185e+08      8.198028      0.495729      2.000027      1.174280   \n",
       "min    1.000515e+08   1940.000000      0.000000      1.000000      1.000000   \n",
       "25%    2.305581e+08   1950.000000      0.000000      2.000000      1.000000   \n",
       "50%    4.104281e+08   1957.000000      0.000000      4.000000      2.000000   \n",
       "75%    5.003171e+08   1964.000000      1.000000      5.000000      3.000000   \n",
       "max    9.623774e+08   1969.000000      1.000000     19.000000      7.000000   \n",
       "\n",
       "        edu_level_f   edu_level_m  edu_level_parent  edu_percentile_score  \\\n",
       "count  20265.000000  20265.000000      20265.000000          20265.000000   \n",
       "mean       1.407155      1.157217          1.282186              0.500025   \n",
       "std        0.823005      0.513685          0.568018              0.276357   \n",
       "min        1.000000      1.000000          1.000000              0.191167   \n",
       "25%        1.000000      1.000000          1.000000              0.191167   \n",
       "50%        1.000000      1.000000          1.000000              0.497409   \n",
       "75%        2.000000      1.000000          1.500000              0.732494   \n",
       "max        8.000000      8.000000          8.000000              0.999803   \n",
       "\n",
       "       edu_percentile_score_parent  edu_improvement  edu_rank_improvement  \\\n",
       "count                 20265.000000     20265.000000          2.026500e+04   \n",
       "mean                      0.500025         0.907649          1.180496e-15   \n",
       "std                       0.231180         1.149502          3.059260e-01   \n",
       "min                       0.354034        -5.000000         -8.082408e-01   \n",
       "25%                       0.354034         0.000000         -1.628670e-01   \n",
       "50%                       0.354034         1.000000         -6.415001e-02   \n",
       "75%                       0.782161         2.000000          1.433753e-01   \n",
       "max                       1.000000         6.000000          6.457686e-01   \n",
       "\n",
       "           edu_year    edu_year_f    edu_year_m   eduy_parent  \\\n",
       "count  20265.000000  20265.000000  20265.000000  20265.000000   \n",
       "mean       6.553886      4.211004      3.468739      3.839872   \n",
       "std        3.475374      2.412271      1.511511      1.668156   \n",
       "min        3.000000      3.000000      3.000000      3.000000   \n",
       "25%        3.000000      3.000000      3.000000      3.000000   \n",
       "50%        6.000000      3.000000      3.000000      3.000000   \n",
       "75%        9.000000      6.000000      3.000000      4.500000   \n",
       "max       18.500000     21.000000     21.000000     21.000000   \n",
       "\n",
       "       eduy_improvement  \n",
       "count      20265.000000  \n",
       "mean           2.714014  \n",
       "std            3.396505  \n",
       "min          -12.000000  \n",
       "25%            0.000000  \n",
       "50%            3.000000  \n",
       "75%            6.000000  \n",
       "max           15.500000  "
      ]
     },
     "execution_count": 236,
     "metadata": {},
     "output_type": "execute_result"
    }
   ],
   "source": [
    "g2_df.describe()"
   ]
  },
  {
   "cell_type": "code",
   "execution_count": 237,
   "id": "be595b39",
   "metadata": {},
   "outputs": [
    {
     "data": {
      "text/html": [
       "<div>\n",
       "<style scoped>\n",
       "    .dataframe tbody tr th:only-of-type {\n",
       "        vertical-align: middle;\n",
       "    }\n",
       "\n",
       "    .dataframe tbody tr th {\n",
       "        vertical-align: top;\n",
       "    }\n",
       "\n",
       "    .dataframe thead th {\n",
       "        text-align: right;\n",
       "    }\n",
       "</style>\n",
       "<table border=\"1\" class=\"dataframe\">\n",
       "  <thead>\n",
       "    <tr style=\"text-align: right;\">\n",
       "      <th></th>\n",
       "      <th>pid</th>\n",
       "      <th>gender</th>\n",
       "      <th>birth_year</th>\n",
       "      <th>urban</th>\n",
       "      <th>familysize</th>\n",
       "      <th>edu_level</th>\n",
       "      <th>edu_level_f</th>\n",
       "      <th>edu_level_m</th>\n",
       "      <th>edu_level_parent</th>\n",
       "      <th>edu_percentile_score</th>\n",
       "      <th>edu_percentile_score_parent</th>\n",
       "      <th>living_area</th>\n",
       "      <th>edu_improvement</th>\n",
       "      <th>edu_rank_improvement</th>\n",
       "      <th>edu_year</th>\n",
       "      <th>edu_year_f</th>\n",
       "      <th>edu_year_m</th>\n",
       "      <th>eduy_parent</th>\n",
       "      <th>eduy_improvement</th>\n",
       "    </tr>\n",
       "  </thead>\n",
       "  <tbody>\n",
       "    <tr>\n",
       "      <th>3</th>\n",
       "      <td>100453431.0</td>\n",
       "      <td>Male</td>\n",
       "      <td>1981.0</td>\n",
       "      <td>1.0</td>\n",
       "      <td>6.0</td>\n",
       "      <td>6.0</td>\n",
       "      <td>2.0</td>\n",
       "      <td>1.0</td>\n",
       "      <td>1.5</td>\n",
       "      <td>0.962661</td>\n",
       "      <td>0.384194</td>\n",
       "      <td>urban</td>\n",
       "      <td>4.5</td>\n",
       "      <td>0.578468</td>\n",
       "      <td>16.0</td>\n",
       "      <td>6.0</td>\n",
       "      <td>3.0</td>\n",
       "      <td>4.5</td>\n",
       "      <td>11.5</td>\n",
       "    </tr>\n",
       "    <tr>\n",
       "      <th>5</th>\n",
       "      <td>100810551.0</td>\n",
       "      <td>Female</td>\n",
       "      <td>1987.0</td>\n",
       "      <td>1.0</td>\n",
       "      <td>3.0</td>\n",
       "      <td>3.0</td>\n",
       "      <td>2.0</td>\n",
       "      <td>1.0</td>\n",
       "      <td>1.5</td>\n",
       "      <td>0.531324</td>\n",
       "      <td>0.384194</td>\n",
       "      <td>urban</td>\n",
       "      <td>1.5</td>\n",
       "      <td>0.147131</td>\n",
       "      <td>9.0</td>\n",
       "      <td>6.0</td>\n",
       "      <td>3.0</td>\n",
       "      <td>4.5</td>\n",
       "      <td>4.5</td>\n",
       "    </tr>\n",
       "    <tr>\n",
       "      <th>7</th>\n",
       "      <td>101274551.0</td>\n",
       "      <td>Male</td>\n",
       "      <td>1976.0</td>\n",
       "      <td>0.0</td>\n",
       "      <td>2.0</td>\n",
       "      <td>5.0</td>\n",
       "      <td>2.0</td>\n",
       "      <td>1.0</td>\n",
       "      <td>1.5</td>\n",
       "      <td>0.888329</td>\n",
       "      <td>0.384194</td>\n",
       "      <td>rural</td>\n",
       "      <td>3.5</td>\n",
       "      <td>0.504135</td>\n",
       "      <td>15.0</td>\n",
       "      <td>6.0</td>\n",
       "      <td>3.0</td>\n",
       "      <td>4.5</td>\n",
       "      <td>10.5</td>\n",
       "    </tr>\n",
       "    <tr>\n",
       "      <th>9</th>\n",
       "      <td>102438551.0</td>\n",
       "      <td>Female</td>\n",
       "      <td>1986.0</td>\n",
       "      <td>1.0</td>\n",
       "      <td>3.0</td>\n",
       "      <td>4.0</td>\n",
       "      <td>2.0</td>\n",
       "      <td>1.0</td>\n",
       "      <td>1.5</td>\n",
       "      <td>0.771520</td>\n",
       "      <td>0.384194</td>\n",
       "      <td>urban</td>\n",
       "      <td>2.5</td>\n",
       "      <td>0.387326</td>\n",
       "      <td>12.0</td>\n",
       "      <td>6.0</td>\n",
       "      <td>3.0</td>\n",
       "      <td>4.5</td>\n",
       "      <td>7.5</td>\n",
       "    </tr>\n",
       "    <tr>\n",
       "      <th>12</th>\n",
       "      <td>103465551.0</td>\n",
       "      <td>Female</td>\n",
       "      <td>1986.0</td>\n",
       "      <td>1.0</td>\n",
       "      <td>3.0</td>\n",
       "      <td>6.0</td>\n",
       "      <td>2.0</td>\n",
       "      <td>1.0</td>\n",
       "      <td>1.5</td>\n",
       "      <td>0.962661</td>\n",
       "      <td>0.384194</td>\n",
       "      <td>urban</td>\n",
       "      <td>4.5</td>\n",
       "      <td>0.578468</td>\n",
       "      <td>16.0</td>\n",
       "      <td>6.0</td>\n",
       "      <td>3.0</td>\n",
       "      <td>4.5</td>\n",
       "      <td>11.5</td>\n",
       "    </tr>\n",
       "    <tr>\n",
       "      <th>...</th>\n",
       "      <td>...</td>\n",
       "      <td>...</td>\n",
       "      <td>...</td>\n",
       "      <td>...</td>\n",
       "      <td>...</td>\n",
       "      <td>...</td>\n",
       "      <td>...</td>\n",
       "      <td>...</td>\n",
       "      <td>...</td>\n",
       "      <td>...</td>\n",
       "      <td>...</td>\n",
       "      <td>...</td>\n",
       "      <td>...</td>\n",
       "      <td>...</td>\n",
       "      <td>...</td>\n",
       "      <td>...</td>\n",
       "      <td>...</td>\n",
       "      <td>...</td>\n",
       "      <td>...</td>\n",
       "    </tr>\n",
       "    <tr>\n",
       "      <th>53296</th>\n",
       "      <td>689452651.0</td>\n",
       "      <td>Male</td>\n",
       "      <td>1974.0</td>\n",
       "      <td>1.0</td>\n",
       "      <td>4.0</td>\n",
       "      <td>4.0</td>\n",
       "      <td>2.0</td>\n",
       "      <td>1.0</td>\n",
       "      <td>1.5</td>\n",
       "      <td>0.771520</td>\n",
       "      <td>0.384194</td>\n",
       "      <td>urban</td>\n",
       "      <td>2.5</td>\n",
       "      <td>0.387326</td>\n",
       "      <td>12.0</td>\n",
       "      <td>6.0</td>\n",
       "      <td>3.0</td>\n",
       "      <td>4.5</td>\n",
       "      <td>7.5</td>\n",
       "    </tr>\n",
       "    <tr>\n",
       "      <th>53297</th>\n",
       "      <td>689452652.0</td>\n",
       "      <td>Female</td>\n",
       "      <td>1975.0</td>\n",
       "      <td>1.0</td>\n",
       "      <td>4.0</td>\n",
       "      <td>3.0</td>\n",
       "      <td>3.0</td>\n",
       "      <td>2.0</td>\n",
       "      <td>2.5</td>\n",
       "      <td>0.531324</td>\n",
       "      <td>0.783924</td>\n",
       "      <td>urban</td>\n",
       "      <td>0.5</td>\n",
       "      <td>-0.252600</td>\n",
       "      <td>9.0</td>\n",
       "      <td>9.0</td>\n",
       "      <td>6.0</td>\n",
       "      <td>7.5</td>\n",
       "      <td>1.5</td>\n",
       "    </tr>\n",
       "    <tr>\n",
       "      <th>53299</th>\n",
       "      <td>693751656.0</td>\n",
       "      <td>Male</td>\n",
       "      <td>1983.0</td>\n",
       "      <td>0.0</td>\n",
       "      <td>7.0</td>\n",
       "      <td>2.0</td>\n",
       "      <td>2.0</td>\n",
       "      <td>1.0</td>\n",
       "      <td>1.5</td>\n",
       "      <td>0.254573</td>\n",
       "      <td>0.384194</td>\n",
       "      <td>rural</td>\n",
       "      <td>0.5</td>\n",
       "      <td>-0.129620</td>\n",
       "      <td>6.0</td>\n",
       "      <td>6.0</td>\n",
       "      <td>3.0</td>\n",
       "      <td>4.5</td>\n",
       "      <td>1.5</td>\n",
       "    </tr>\n",
       "    <tr>\n",
       "      <th>53305</th>\n",
       "      <td>760935651.0</td>\n",
       "      <td>Male</td>\n",
       "      <td>1985.0</td>\n",
       "      <td>1.0</td>\n",
       "      <td>5.0</td>\n",
       "      <td>4.0</td>\n",
       "      <td>2.0</td>\n",
       "      <td>3.0</td>\n",
       "      <td>2.5</td>\n",
       "      <td>0.771520</td>\n",
       "      <td>0.783924</td>\n",
       "      <td>urban</td>\n",
       "      <td>1.5</td>\n",
       "      <td>-0.012404</td>\n",
       "      <td>12.0</td>\n",
       "      <td>6.0</td>\n",
       "      <td>9.0</td>\n",
       "      <td>7.5</td>\n",
       "      <td>4.5</td>\n",
       "    </tr>\n",
       "    <tr>\n",
       "      <th>53306</th>\n",
       "      <td>320303203.0</td>\n",
       "      <td>Male</td>\n",
       "      <td>1970.0</td>\n",
       "      <td>1.0</td>\n",
       "      <td>3.0</td>\n",
       "      <td>5.0</td>\n",
       "      <td>4.0</td>\n",
       "      <td>3.0</td>\n",
       "      <td>3.5</td>\n",
       "      <td>0.888329</td>\n",
       "      <td>0.945151</td>\n",
       "      <td>urban</td>\n",
       "      <td>1.5</td>\n",
       "      <td>-0.056822</td>\n",
       "      <td>15.0</td>\n",
       "      <td>12.0</td>\n",
       "      <td>9.0</td>\n",
       "      <td>10.5</td>\n",
       "      <td>4.5</td>\n",
       "    </tr>\n",
       "  </tbody>\n",
       "</table>\n",
       "<p>15962 rows × 19 columns</p>\n",
       "</div>"
      ],
      "text/plain": [
       "               pid  gender  birth_year  urban  familysize  edu_level  \\\n",
       "3      100453431.0    Male      1981.0    1.0         6.0        6.0   \n",
       "5      100810551.0  Female      1987.0    1.0         3.0        3.0   \n",
       "7      101274551.0    Male      1976.0    0.0         2.0        5.0   \n",
       "9      102438551.0  Female      1986.0    1.0         3.0        4.0   \n",
       "12     103465551.0  Female      1986.0    1.0         3.0        6.0   \n",
       "...            ...     ...         ...    ...         ...        ...   \n",
       "53296  689452651.0    Male      1974.0    1.0         4.0        4.0   \n",
       "53297  689452652.0  Female      1975.0    1.0         4.0        3.0   \n",
       "53299  693751656.0    Male      1983.0    0.0         7.0        2.0   \n",
       "53305  760935651.0    Male      1985.0    1.0         5.0        4.0   \n",
       "53306  320303203.0    Male      1970.0    1.0         3.0        5.0   \n",
       "\n",
       "       edu_level_f  edu_level_m  edu_level_parent  edu_percentile_score  \\\n",
       "3              2.0          1.0               1.5              0.962661   \n",
       "5              2.0          1.0               1.5              0.531324   \n",
       "7              2.0          1.0               1.5              0.888329   \n",
       "9              2.0          1.0               1.5              0.771520   \n",
       "12             2.0          1.0               1.5              0.962661   \n",
       "...            ...          ...               ...                   ...   \n",
       "53296          2.0          1.0               1.5              0.771520   \n",
       "53297          3.0          2.0               2.5              0.531324   \n",
       "53299          2.0          1.0               1.5              0.254573   \n",
       "53305          2.0          3.0               2.5              0.771520   \n",
       "53306          4.0          3.0               3.5              0.888329   \n",
       "\n",
       "       edu_percentile_score_parent living_area  edu_improvement  \\\n",
       "3                         0.384194       urban              4.5   \n",
       "5                         0.384194       urban              1.5   \n",
       "7                         0.384194       rural              3.5   \n",
       "9                         0.384194       urban              2.5   \n",
       "12                        0.384194       urban              4.5   \n",
       "...                            ...         ...              ...   \n",
       "53296                     0.384194       urban              2.5   \n",
       "53297                     0.783924       urban              0.5   \n",
       "53299                     0.384194       rural              0.5   \n",
       "53305                     0.783924       urban              1.5   \n",
       "53306                     0.945151       urban              1.5   \n",
       "\n",
       "       edu_rank_improvement  edu_year  edu_year_f  edu_year_m  eduy_parent  \\\n",
       "3                  0.578468      16.0         6.0         3.0          4.5   \n",
       "5                  0.147131       9.0         6.0         3.0          4.5   \n",
       "7                  0.504135      15.0         6.0         3.0          4.5   \n",
       "9                  0.387326      12.0         6.0         3.0          4.5   \n",
       "12                 0.578468      16.0         6.0         3.0          4.5   \n",
       "...                     ...       ...         ...         ...          ...   \n",
       "53296              0.387326      12.0         6.0         3.0          4.5   \n",
       "53297             -0.252600       9.0         9.0         6.0          7.5   \n",
       "53299             -0.129620       6.0         6.0         3.0          4.5   \n",
       "53305             -0.012404      12.0         6.0         9.0          7.5   \n",
       "53306             -0.056822      15.0        12.0         9.0         10.5   \n",
       "\n",
       "       eduy_improvement  \n",
       "3                  11.5  \n",
       "5                   4.5  \n",
       "7                  10.5  \n",
       "9                   7.5  \n",
       "12                 11.5  \n",
       "...                 ...  \n",
       "53296               7.5  \n",
       "53297               1.5  \n",
       "53299               1.5  \n",
       "53305               4.5  \n",
       "53306               4.5  \n",
       "\n",
       "[15962 rows x 19 columns]"
      ]
     },
     "execution_count": 237,
     "metadata": {},
     "output_type": "execute_result"
    }
   ],
   "source": [
    "g3_df"
   ]
  },
  {
   "cell_type": "code",
   "execution_count": 238,
   "id": "cff796b4",
   "metadata": {},
   "outputs": [
    {
     "data": {
      "text/html": [
       "<div>\n",
       "<style scoped>\n",
       "    .dataframe tbody tr th:only-of-type {\n",
       "        vertical-align: middle;\n",
       "    }\n",
       "\n",
       "    .dataframe tbody tr th {\n",
       "        vertical-align: top;\n",
       "    }\n",
       "\n",
       "    .dataframe thead th {\n",
       "        text-align: right;\n",
       "    }\n",
       "</style>\n",
       "<table border=\"1\" class=\"dataframe\">\n",
       "  <thead>\n",
       "    <tr style=\"text-align: right;\">\n",
       "      <th></th>\n",
       "      <th>pid</th>\n",
       "      <th>gender</th>\n",
       "      <th>birth_year</th>\n",
       "      <th>urban</th>\n",
       "      <th>familysize</th>\n",
       "      <th>edu_level</th>\n",
       "      <th>edu_level_f</th>\n",
       "      <th>edu_level_m</th>\n",
       "      <th>edu_level_parent</th>\n",
       "      <th>edu_percentile_score</th>\n",
       "      <th>edu_percentile_score_parent</th>\n",
       "      <th>living_area</th>\n",
       "      <th>edu_improvement</th>\n",
       "      <th>edu_rank_improvement</th>\n",
       "      <th>edu_year</th>\n",
       "      <th>edu_year_f</th>\n",
       "      <th>edu_year_m</th>\n",
       "      <th>eduy_parent</th>\n",
       "      <th>eduy_improvement</th>\n",
       "      <th>if_g2g3_period</th>\n",
       "    </tr>\n",
       "  </thead>\n",
       "  <tbody>\n",
       "    <tr>\n",
       "      <th>0</th>\n",
       "      <td>100051501.0</td>\n",
       "      <td>Female</td>\n",
       "      <td>1969.0</td>\n",
       "      <td>1.0</td>\n",
       "      <td>3.0</td>\n",
       "      <td>4.0</td>\n",
       "      <td>2.0</td>\n",
       "      <td>1.0</td>\n",
       "      <td>1.5</td>\n",
       "      <td>0.911794</td>\n",
       "      <td>0.782161</td>\n",
       "      <td>urban</td>\n",
       "      <td>2.5</td>\n",
       "      <td>0.129632</td>\n",
       "      <td>12.0</td>\n",
       "      <td>6.0</td>\n",
       "      <td>3.0</td>\n",
       "      <td>4.5</td>\n",
       "      <td>7.5</td>\n",
       "      <td>0</td>\n",
       "    </tr>\n",
       "    <tr>\n",
       "      <th>1</th>\n",
       "      <td>100051502.0</td>\n",
       "      <td>Male</td>\n",
       "      <td>1966.0</td>\n",
       "      <td>1.0</td>\n",
       "      <td>3.0</td>\n",
       "      <td>4.0</td>\n",
       "      <td>1.0</td>\n",
       "      <td>1.0</td>\n",
       "      <td>1.0</td>\n",
       "      <td>0.911794</td>\n",
       "      <td>0.354034</td>\n",
       "      <td>urban</td>\n",
       "      <td>3.0</td>\n",
       "      <td>0.557760</td>\n",
       "      <td>12.0</td>\n",
       "      <td>3.0</td>\n",
       "      <td>3.0</td>\n",
       "      <td>3.0</td>\n",
       "      <td>9.0</td>\n",
       "      <td>0</td>\n",
       "    </tr>\n",
       "    <tr>\n",
       "      <th>2</th>\n",
       "      <td>102571551.0</td>\n",
       "      <td>Female</td>\n",
       "      <td>1945.0</td>\n",
       "      <td>0.0</td>\n",
       "      <td>3.0</td>\n",
       "      <td>1.0</td>\n",
       "      <td>1.0</td>\n",
       "      <td>1.0</td>\n",
       "      <td>1.0</td>\n",
       "      <td>0.191167</td>\n",
       "      <td>0.354034</td>\n",
       "      <td>rural</td>\n",
       "      <td>0.0</td>\n",
       "      <td>-0.162867</td>\n",
       "      <td>3.0</td>\n",
       "      <td>3.0</td>\n",
       "      <td>3.0</td>\n",
       "      <td>3.0</td>\n",
       "      <td>0.0</td>\n",
       "      <td>0</td>\n",
       "    </tr>\n",
       "    <tr>\n",
       "      <th>3</th>\n",
       "      <td>102571552.0</td>\n",
       "      <td>Male</td>\n",
       "      <td>1948.0</td>\n",
       "      <td>0.0</td>\n",
       "      <td>3.0</td>\n",
       "      <td>2.0</td>\n",
       "      <td>1.0</td>\n",
       "      <td>1.0</td>\n",
       "      <td>1.0</td>\n",
       "      <td>0.497409</td>\n",
       "      <td>0.354034</td>\n",
       "      <td>rural</td>\n",
       "      <td>1.0</td>\n",
       "      <td>0.143375</td>\n",
       "      <td>6.0</td>\n",
       "      <td>3.0</td>\n",
       "      <td>3.0</td>\n",
       "      <td>3.0</td>\n",
       "      <td>3.0</td>\n",
       "      <td>0</td>\n",
       "    </tr>\n",
       "    <tr>\n",
       "      <th>4</th>\n",
       "      <td>110006101.0</td>\n",
       "      <td>Male</td>\n",
       "      <td>1960.0</td>\n",
       "      <td>1.0</td>\n",
       "      <td>3.0</td>\n",
       "      <td>3.0</td>\n",
       "      <td>1.0</td>\n",
       "      <td>1.0</td>\n",
       "      <td>1.0</td>\n",
       "      <td>0.732494</td>\n",
       "      <td>0.354034</td>\n",
       "      <td>urban</td>\n",
       "      <td>2.0</td>\n",
       "      <td>0.378460</td>\n",
       "      <td>9.0</td>\n",
       "      <td>3.0</td>\n",
       "      <td>3.0</td>\n",
       "      <td>3.0</td>\n",
       "      <td>6.0</td>\n",
       "      <td>0</td>\n",
       "    </tr>\n",
       "    <tr>\n",
       "      <th>...</th>\n",
       "      <td>...</td>\n",
       "      <td>...</td>\n",
       "      <td>...</td>\n",
       "      <td>...</td>\n",
       "      <td>...</td>\n",
       "      <td>...</td>\n",
       "      <td>...</td>\n",
       "      <td>...</td>\n",
       "      <td>...</td>\n",
       "      <td>...</td>\n",
       "      <td>...</td>\n",
       "      <td>...</td>\n",
       "      <td>...</td>\n",
       "      <td>...</td>\n",
       "      <td>...</td>\n",
       "      <td>...</td>\n",
       "      <td>...</td>\n",
       "      <td>...</td>\n",
       "      <td>...</td>\n",
       "      <td>...</td>\n",
       "    </tr>\n",
       "    <tr>\n",
       "      <th>36222</th>\n",
       "      <td>689452651.0</td>\n",
       "      <td>Male</td>\n",
       "      <td>1974.0</td>\n",
       "      <td>1.0</td>\n",
       "      <td>4.0</td>\n",
       "      <td>4.0</td>\n",
       "      <td>2.0</td>\n",
       "      <td>1.0</td>\n",
       "      <td>1.5</td>\n",
       "      <td>0.771520</td>\n",
       "      <td>0.384194</td>\n",
       "      <td>urban</td>\n",
       "      <td>2.5</td>\n",
       "      <td>0.387326</td>\n",
       "      <td>12.0</td>\n",
       "      <td>6.0</td>\n",
       "      <td>3.0</td>\n",
       "      <td>4.5</td>\n",
       "      <td>7.5</td>\n",
       "      <td>1</td>\n",
       "    </tr>\n",
       "    <tr>\n",
       "      <th>36223</th>\n",
       "      <td>689452652.0</td>\n",
       "      <td>Female</td>\n",
       "      <td>1975.0</td>\n",
       "      <td>1.0</td>\n",
       "      <td>4.0</td>\n",
       "      <td>3.0</td>\n",
       "      <td>3.0</td>\n",
       "      <td>2.0</td>\n",
       "      <td>2.5</td>\n",
       "      <td>0.531324</td>\n",
       "      <td>0.783924</td>\n",
       "      <td>urban</td>\n",
       "      <td>0.5</td>\n",
       "      <td>-0.252600</td>\n",
       "      <td>9.0</td>\n",
       "      <td>9.0</td>\n",
       "      <td>6.0</td>\n",
       "      <td>7.5</td>\n",
       "      <td>1.5</td>\n",
       "      <td>1</td>\n",
       "    </tr>\n",
       "    <tr>\n",
       "      <th>36224</th>\n",
       "      <td>693751656.0</td>\n",
       "      <td>Male</td>\n",
       "      <td>1983.0</td>\n",
       "      <td>0.0</td>\n",
       "      <td>7.0</td>\n",
       "      <td>2.0</td>\n",
       "      <td>2.0</td>\n",
       "      <td>1.0</td>\n",
       "      <td>1.5</td>\n",
       "      <td>0.254573</td>\n",
       "      <td>0.384194</td>\n",
       "      <td>rural</td>\n",
       "      <td>0.5</td>\n",
       "      <td>-0.129620</td>\n",
       "      <td>6.0</td>\n",
       "      <td>6.0</td>\n",
       "      <td>3.0</td>\n",
       "      <td>4.5</td>\n",
       "      <td>1.5</td>\n",
       "      <td>1</td>\n",
       "    </tr>\n",
       "    <tr>\n",
       "      <th>36225</th>\n",
       "      <td>760935651.0</td>\n",
       "      <td>Male</td>\n",
       "      <td>1985.0</td>\n",
       "      <td>1.0</td>\n",
       "      <td>5.0</td>\n",
       "      <td>4.0</td>\n",
       "      <td>2.0</td>\n",
       "      <td>3.0</td>\n",
       "      <td>2.5</td>\n",
       "      <td>0.771520</td>\n",
       "      <td>0.783924</td>\n",
       "      <td>urban</td>\n",
       "      <td>1.5</td>\n",
       "      <td>-0.012404</td>\n",
       "      <td>12.0</td>\n",
       "      <td>6.0</td>\n",
       "      <td>9.0</td>\n",
       "      <td>7.5</td>\n",
       "      <td>4.5</td>\n",
       "      <td>1</td>\n",
       "    </tr>\n",
       "    <tr>\n",
       "      <th>36226</th>\n",
       "      <td>320303203.0</td>\n",
       "      <td>Male</td>\n",
       "      <td>1970.0</td>\n",
       "      <td>1.0</td>\n",
       "      <td>3.0</td>\n",
       "      <td>5.0</td>\n",
       "      <td>4.0</td>\n",
       "      <td>3.0</td>\n",
       "      <td>3.5</td>\n",
       "      <td>0.888329</td>\n",
       "      <td>0.945151</td>\n",
       "      <td>urban</td>\n",
       "      <td>1.5</td>\n",
       "      <td>-0.056822</td>\n",
       "      <td>15.0</td>\n",
       "      <td>12.0</td>\n",
       "      <td>9.0</td>\n",
       "      <td>10.5</td>\n",
       "      <td>4.5</td>\n",
       "      <td>1</td>\n",
       "    </tr>\n",
       "  </tbody>\n",
       "</table>\n",
       "<p>36227 rows × 20 columns</p>\n",
       "</div>"
      ],
      "text/plain": [
       "               pid  gender  birth_year  urban  familysize  edu_level  \\\n",
       "0      100051501.0  Female      1969.0    1.0         3.0        4.0   \n",
       "1      100051502.0    Male      1966.0    1.0         3.0        4.0   \n",
       "2      102571551.0  Female      1945.0    0.0         3.0        1.0   \n",
       "3      102571552.0    Male      1948.0    0.0         3.0        2.0   \n",
       "4      110006101.0    Male      1960.0    1.0         3.0        3.0   \n",
       "...            ...     ...         ...    ...         ...        ...   \n",
       "36222  689452651.0    Male      1974.0    1.0         4.0        4.0   \n",
       "36223  689452652.0  Female      1975.0    1.0         4.0        3.0   \n",
       "36224  693751656.0    Male      1983.0    0.0         7.0        2.0   \n",
       "36225  760935651.0    Male      1985.0    1.0         5.0        4.0   \n",
       "36226  320303203.0    Male      1970.0    1.0         3.0        5.0   \n",
       "\n",
       "       edu_level_f  edu_level_m  edu_level_parent  edu_percentile_score  \\\n",
       "0              2.0          1.0               1.5              0.911794   \n",
       "1              1.0          1.0               1.0              0.911794   \n",
       "2              1.0          1.0               1.0              0.191167   \n",
       "3              1.0          1.0               1.0              0.497409   \n",
       "4              1.0          1.0               1.0              0.732494   \n",
       "...            ...          ...               ...                   ...   \n",
       "36222          2.0          1.0               1.5              0.771520   \n",
       "36223          3.0          2.0               2.5              0.531324   \n",
       "36224          2.0          1.0               1.5              0.254573   \n",
       "36225          2.0          3.0               2.5              0.771520   \n",
       "36226          4.0          3.0               3.5              0.888329   \n",
       "\n",
       "       edu_percentile_score_parent living_area  edu_improvement  \\\n",
       "0                         0.782161       urban              2.5   \n",
       "1                         0.354034       urban              3.0   \n",
       "2                         0.354034       rural              0.0   \n",
       "3                         0.354034       rural              1.0   \n",
       "4                         0.354034       urban              2.0   \n",
       "...                            ...         ...              ...   \n",
       "36222                     0.384194       urban              2.5   \n",
       "36223                     0.783924       urban              0.5   \n",
       "36224                     0.384194       rural              0.5   \n",
       "36225                     0.783924       urban              1.5   \n",
       "36226                     0.945151       urban              1.5   \n",
       "\n",
       "       edu_rank_improvement  edu_year  edu_year_f  edu_year_m  eduy_parent  \\\n",
       "0                  0.129632      12.0         6.0         3.0          4.5   \n",
       "1                  0.557760      12.0         3.0         3.0          3.0   \n",
       "2                 -0.162867       3.0         3.0         3.0          3.0   \n",
       "3                  0.143375       6.0         3.0         3.0          3.0   \n",
       "4                  0.378460       9.0         3.0         3.0          3.0   \n",
       "...                     ...       ...         ...         ...          ...   \n",
       "36222              0.387326      12.0         6.0         3.0          4.5   \n",
       "36223             -0.252600       9.0         9.0         6.0          7.5   \n",
       "36224             -0.129620       6.0         6.0         3.0          4.5   \n",
       "36225             -0.012404      12.0         6.0         9.0          7.5   \n",
       "36226             -0.056822      15.0        12.0         9.0         10.5   \n",
       "\n",
       "       eduy_improvement  if_g2g3_period  \n",
       "0                   7.5               0  \n",
       "1                   9.0               0  \n",
       "2                   0.0               0  \n",
       "3                   3.0               0  \n",
       "4                   6.0               0  \n",
       "...                 ...             ...  \n",
       "36222               7.5               1  \n",
       "36223               1.5               1  \n",
       "36224               1.5               1  \n",
       "36225               4.5               1  \n",
       "36226               4.5               1  \n",
       "\n",
       "[36227 rows x 20 columns]"
      ]
     },
     "execution_count": 238,
     "metadata": {},
     "output_type": "execute_result"
    }
   ],
   "source": [
    "\n",
    "df_all_period = pd.concat([g2_df, g3_df], axis=0, ignore_index=True)\n",
    "\n",
    "\n",
    "df_all_period['if_g2g3_period'] = 1\n",
    "df_all_period.loc[df_all_period.index < len(g2_df), 'if_g2g3_period'] = 0\n",
    "\n",
    "\n",
    "df_all_period"
   ]
  },
  {
   "cell_type": "code",
   "execution_count": null,
   "id": "120131b6",
   "metadata": {},
   "outputs": [],
   "source": []
  },
  {
   "cell_type": "code",
   "execution_count": null,
   "id": "cc61faf5",
   "metadata": {},
   "outputs": [],
   "source": []
  },
  {
   "cell_type": "code",
   "execution_count": null,
   "id": "8a5ee670",
   "metadata": {},
   "outputs": [],
   "source": []
  },
  {
   "cell_type": "markdown",
   "id": "24f9655f",
   "metadata": {},
   "source": [
    "# Absolute education improvement (edu_year improvement)"
   ]
  },
  {
   "cell_type": "code",
   "execution_count": 239,
   "id": "61218f67",
   "metadata": {},
   "outputs": [
    {
     "data": {
      "text/html": [
       "<div>\n",
       "<style scoped>\n",
       "    .dataframe tbody tr th:only-of-type {\n",
       "        vertical-align: middle;\n",
       "    }\n",
       "\n",
       "    .dataframe tbody tr th {\n",
       "        vertical-align: top;\n",
       "    }\n",
       "\n",
       "    .dataframe thead th {\n",
       "        text-align: right;\n",
       "    }\n",
       "</style>\n",
       "<table border=\"1\" class=\"dataframe\">\n",
       "  <thead>\n",
       "    <tr style=\"text-align: right;\">\n",
       "      <th></th>\n",
       "      <th>eduy_improvement</th>\n",
       "    </tr>\n",
       "  </thead>\n",
       "  <tbody>\n",
       "    <tr>\n",
       "      <th>count</th>\n",
       "      <td>20265.000000</td>\n",
       "    </tr>\n",
       "    <tr>\n",
       "      <th>mean</th>\n",
       "      <td>2.714014</td>\n",
       "    </tr>\n",
       "    <tr>\n",
       "      <th>std</th>\n",
       "      <td>3.396505</td>\n",
       "    </tr>\n",
       "    <tr>\n",
       "      <th>min</th>\n",
       "      <td>-12.000000</td>\n",
       "    </tr>\n",
       "    <tr>\n",
       "      <th>25%</th>\n",
       "      <td>0.000000</td>\n",
       "    </tr>\n",
       "    <tr>\n",
       "      <th>50%</th>\n",
       "      <td>3.000000</td>\n",
       "    </tr>\n",
       "    <tr>\n",
       "      <th>75%</th>\n",
       "      <td>6.000000</td>\n",
       "    </tr>\n",
       "    <tr>\n",
       "      <th>max</th>\n",
       "      <td>15.500000</td>\n",
       "    </tr>\n",
       "  </tbody>\n",
       "</table>\n",
       "</div>"
      ],
      "text/plain": [
       "       eduy_improvement\n",
       "count      20265.000000\n",
       "mean           2.714014\n",
       "std            3.396505\n",
       "min          -12.000000\n",
       "25%            0.000000\n",
       "50%            3.000000\n",
       "75%            6.000000\n",
       "max           15.500000"
      ]
     },
     "execution_count": 239,
     "metadata": {},
     "output_type": "execute_result"
    }
   ],
   "source": [
    "g2_df[['eduy_improvement']].describe()"
   ]
  },
  {
   "cell_type": "code",
   "execution_count": 240,
   "id": "08633016",
   "metadata": {},
   "outputs": [
    {
     "data": {
      "text/html": [
       "<div>\n",
       "<style scoped>\n",
       "    .dataframe tbody tr th:only-of-type {\n",
       "        vertical-align: middle;\n",
       "    }\n",
       "\n",
       "    .dataframe tbody tr th {\n",
       "        vertical-align: top;\n",
       "    }\n",
       "\n",
       "    .dataframe thead th {\n",
       "        text-align: right;\n",
       "    }\n",
       "</style>\n",
       "<table border=\"1\" class=\"dataframe\">\n",
       "  <thead>\n",
       "    <tr style=\"text-align: right;\">\n",
       "      <th></th>\n",
       "      <th>eduy_improvement</th>\n",
       "    </tr>\n",
       "  </thead>\n",
       "  <tbody>\n",
       "    <tr>\n",
       "      <th>count</th>\n",
       "      <td>15962.000000</td>\n",
       "    </tr>\n",
       "    <tr>\n",
       "      <th>mean</th>\n",
       "      <td>3.253414</td>\n",
       "    </tr>\n",
       "    <tr>\n",
       "      <th>std</th>\n",
       "      <td>3.651655</td>\n",
       "    </tr>\n",
       "    <tr>\n",
       "      <th>min</th>\n",
       "      <td>-10.500000</td>\n",
       "    </tr>\n",
       "    <tr>\n",
       "      <th>25%</th>\n",
       "      <td>0.000000</td>\n",
       "    </tr>\n",
       "    <tr>\n",
       "      <th>50%</th>\n",
       "      <td>3.000000</td>\n",
       "    </tr>\n",
       "    <tr>\n",
       "      <th>75%</th>\n",
       "      <td>6.000000</td>\n",
       "    </tr>\n",
       "    <tr>\n",
       "      <th>max</th>\n",
       "      <td>18.000000</td>\n",
       "    </tr>\n",
       "  </tbody>\n",
       "</table>\n",
       "</div>"
      ],
      "text/plain": [
       "       eduy_improvement\n",
       "count      15962.000000\n",
       "mean           3.253414\n",
       "std            3.651655\n",
       "min          -10.500000\n",
       "25%            0.000000\n",
       "50%            3.000000\n",
       "75%            6.000000\n",
       "max           18.000000"
      ]
     },
     "execution_count": 240,
     "metadata": {},
     "output_type": "execute_result"
    }
   ],
   "source": [
    "g3_df[['eduy_improvement']].describe()"
   ]
  },
  {
   "cell_type": "code",
   "execution_count": 241,
   "id": "3198eece",
   "metadata": {},
   "outputs": [
    {
     "name": "stdout",
     "output_type": "stream",
     "text": [
      "t value is： -14.516260832756087\n",
      "p value is： 1.300810582066304e-47\n"
     ]
    }
   ],
   "source": [
    "t, p = ttest_ind(g2_df['eduy_improvement'], g3_df['eduy_improvement'])\n",
    "\n",
    "print(\"t value is：\", t)\n",
    "print(\"p value is：\", p)"
   ]
  },
  {
   "cell_type": "code",
   "execution_count": 242,
   "id": "cc7b016a",
   "metadata": {},
   "outputs": [
    {
     "data": {
      "image/png": "[encoded data removed]",
      "text/plain": [
       "<Figure size 432x288 with 1 Axes>"
      ]
     },
     "metadata": {
      "needs_background": "light"
     },
     "output_type": "display_data"
    }
   ],
   "source": [
    "plt.hist(g2_df['eduy_improvement'], alpha=0.5, label='g1-g2', density = True)\n",
    "plt.hist(g3_df['eduy_improvement'], alpha=0.5, label='g2-g3', density = True)\n",
    "plt.legend(loc='upper right')\n",
    "plt.title('Distribution of absolute education improvement in terms of years of education')\n",
    "plt.xlabel('Abs_edu_improve')\n",
    "plt.ylabel('Freq')\n",
    "plt.show()"
   ]
  },
  {
   "cell_type": "code",
   "execution_count": 243,
   "id": "b1c8348a",
   "metadata": {},
   "outputs": [
    {
     "data": {
      "text/html": [
       "<table class=\"simpletable\">\n",
       "<tr>\n",
       "        <td>Model:</td>               <td>OLS</td>         <td>Adj. R-squared:</td>      <td>0.006</td>   \n",
       "</tr>\n",
       "<tr>\n",
       "  <td>Dependent Variable:</td> <td>eduy_improvement</td>        <td>AIC:</td>         <td>193809.1804</td>\n",
       "</tr>\n",
       "<tr>\n",
       "         <td>Date:</td>        <td>2023-05-04 18:29</td>        <td>BIC:</td>         <td>193826.1755</td>\n",
       "</tr>\n",
       "<tr>\n",
       "   <td>No. Observations:</td>        <td>36227</td>        <td>Log-Likelihood:</td>     <td>-96903.</td>  \n",
       "</tr>\n",
       "<tr>\n",
       "       <td>Df Model:</td>              <td>1</td>           <td>F-statistic:</td>        <td>210.7</td>   \n",
       "</tr>\n",
       "<tr>\n",
       "     <td>Df Residuals:</td>          <td>36225</td>      <td>Prob (F-statistic):</td>  <td>1.30e-47</td>  \n",
       "</tr>\n",
       "<tr>\n",
       "      <td>R-squared:</td>            <td>0.006</td>            <td>Scale:</td>          <td>12.329</td>   \n",
       "</tr>\n",
       "</table>\n",
       "<table class=\"simpletable\">\n",
       "<tr>\n",
       "         <td></td>         <th>Coef.</th> <th>Std.Err.</th>     <th>t</th>     <th>P>|t|</th> <th>[0.025</th> <th>0.975]</th>\n",
       "</tr>\n",
       "<tr>\n",
       "  <th>const</th>          <td>2.7140</td>  <td>0.0247</td>  <td>110.0344</td> <td>0.0000</td> <td>2.6657</td> <td>2.7624</td>\n",
       "</tr>\n",
       "<tr>\n",
       "  <th>if_g2g3_period</th> <td>0.5394</td>  <td>0.0372</td>   <td>14.5163</td> <td>0.0000</td> <td>0.4666</td> <td>0.6122</td>\n",
       "</tr>\n",
       "</table>\n",
       "<table class=\"simpletable\">\n",
       "<tr>\n",
       "     <td>Omnibus:</td>    <td>990.343</td>  <td>Durbin-Watson:</td>     <td>1.589</td> \n",
       "</tr>\n",
       "<tr>\n",
       "  <td>Prob(Omnibus):</td>  <td>0.000</td>  <td>Jarque-Bera (JB):</td> <td>1068.981</td>\n",
       "</tr>\n",
       "<tr>\n",
       "       <td>Skew:</td>      <td>0.418</td>      <td>Prob(JB):</td>       <td>0.000</td> \n",
       "</tr>\n",
       "<tr>\n",
       "     <td>Kurtosis:</td>    <td>2.896</td>   <td>Condition No.:</td>       <td>3</td>   \n",
       "</tr>\n",
       "</table>"
      ],
      "text/plain": [
       "<class 'statsmodels.iolib.summary2.Summary'>\n",
       "\"\"\"\n",
       "                  Results: Ordinary least squares\n",
       "====================================================================\n",
       "Model:              OLS              Adj. R-squared:     0.006      \n",
       "Dependent Variable: eduy_improvement AIC:                193809.1804\n",
       "Date:               2023-05-04 18:29 BIC:                193826.1755\n",
       "No. Observations:   36227            Log-Likelihood:     -96903.    \n",
       "Df Model:           1                F-statistic:        210.7      \n",
       "Df Residuals:       36225            Prob (F-statistic): 1.30e-47   \n",
       "R-squared:          0.006            Scale:              12.329     \n",
       "---------------------------------------------------------------------\n",
       "                   Coef.   Std.Err.     t      P>|t|   [0.025  0.975]\n",
       "---------------------------------------------------------------------\n",
       "const              2.7140    0.0247  110.0344  0.0000  2.6657  2.7624\n",
       "if_g2g3_period     0.5394    0.0372   14.5163  0.0000  0.4666  0.6122\n",
       "--------------------------------------------------------------------\n",
       "Omnibus:              990.343       Durbin-Watson:          1.589   \n",
       "Prob(Omnibus):        0.000         Jarque-Bera (JB):       1068.981\n",
       "Skew:                 0.418         Prob(JB):               0.000   \n",
       "Kurtosis:             2.896         Condition No.:          3       \n",
       "====================================================================\n",
       "\n",
       "\"\"\""
      ]
     },
     "execution_count": 243,
     "metadata": {},
     "output_type": "execute_result"
    }
   ],
   "source": [
    "Y = df_all_period['eduy_improvement']\n",
    "X = df_all_period[['if_g2g3_period']]\n",
    "X = sm.add_constant(X)\n",
    "model = sm.OLS(Y,X)\n",
    "results = model.fit()\n",
    "results.summary2()"
   ]
  },
  {
   "cell_type": "code",
   "execution_count": null,
   "id": "6e51ea4f",
   "metadata": {},
   "outputs": [],
   "source": []
  },
  {
   "cell_type": "markdown",
   "id": "7c4c6c5a",
   "metadata": {},
   "source": [
    "## gender"
   ]
  },
  {
   "cell_type": "code",
   "execution_count": 244,
   "id": "89312a11",
   "metadata": {},
   "outputs": [
    {
     "data": {
      "image/png": "[encoded data removed]",
      "text/plain": [
       "<Figure size 432x288 with 1 Axes>"
      ]
     },
     "metadata": {
      "needs_background": "light"
     },
     "output_type": "display_data"
    }
   ],
   "source": [
    "data = pd.concat([g2_df.assign(group='g1-g2'), g3_df.assign(group='g2-g3')])\n",
    "sns.violinplot(x='group', y='eduy_improvement', hue='gender', data=data, split=True)\n",
    "plt.title('Distribution of intergenerational absolute education improvement by gender')\n",
    "plt.xlabel('Period')\n",
    "\n",
    "# Show the plot\n",
    "plt.show()\n"
   ]
  },
  {
   "cell_type": "code",
   "execution_count": 245,
   "id": "fe8f2a5c",
   "metadata": {},
   "outputs": [
    {
     "data": {
      "image/png": "[encoded data removed]",
      "text/plain": [
       "<Figure size 432x288 with 1 Axes>"
      ]
     },
     "metadata": {
      "needs_background": "light"
     },
     "output_type": "display_data"
    }
   ],
   "source": [
    "sns.barplot(x='group', y='eduy_improvement', hue='gender', data=data, ci=95, errcolor='red', errwidth=2)\n",
    "plt.title('Intergenerational absolute education improvement by gender')\n",
    "plt.xlabel('Period')\n",
    "\n",
    "# Show the plot\n",
    "plt.show()"
   ]
  },
  {
   "cell_type": "code",
   "execution_count": 246,
   "id": "a53b366f",
   "metadata": {},
   "outputs": [
    {
     "name": "stdout",
     "output_type": "stream",
     "text": [
      "LR Test p-value: 0.0000\n",
      "DF difference: 1.0000\n"
     ]
    }
   ],
   "source": [
    "modely1_1 = smf.ols('eduy_improvement ~ if_g2g3_period + gender + if_g2g3_period*gender', data=df_all_period).fit()\n",
    "modely1_2 = smf.ols('eduy_improvement ~ if_g2g3_period + gender', data=df_all_period).fit()\n",
    "\n",
    "# 比较两个模型并计算LR统计量和p值\n",
    "# 比较两个模型\n",
    "lr_test = modely1_1.compare_lr_test(modely1_2)\n",
    "\n",
    "# 打印比较结果\n",
    "print(f\"LR Test p-value: {lr_test[1]:.4f}\")\n",
    "print(f\"DF difference: {lr_test[2]:.4f}\")"
   ]
  },
  {
   "cell_type": "code",
   "execution_count": 247,
   "id": "45817ac0",
   "metadata": {},
   "outputs": [
    {
     "name": "stdout",
     "output_type": "stream",
     "text": [
      "                            OLS Regression Results                            \n",
      "==============================================================================\n",
      "Dep. Variable:       eduy_improvement   R-squared:                       0.031\n",
      "Model:                            OLS   Adj. R-squared:                  0.031\n",
      "Method:                 Least Squares   F-statistic:                     387.4\n",
      "Date:                Thu, 04 May 2023   Prob (F-statistic):          9.85e-248\n",
      "Time:                        18:32:52   Log-Likelihood:                -96436.\n",
      "No. Observations:               36227   AIC:                         1.929e+05\n",
      "Df Residuals:                   36223   BIC:                         1.929e+05\n",
      "Df Model:                           3                                         \n",
      "Covariance Type:            nonrobust                                         \n",
      "=================================================================================================\n",
      "                                    coef    std err          t      P>|t|      [0.025      0.975]\n",
      "-------------------------------------------------------------------------------------------------\n",
      "Intercept                         2.0004      0.034     58.143      0.000       1.933       2.068\n",
      "gender[T.Male]                    1.4299      0.049     29.362      0.000       1.334       1.525\n",
      "if_g2g3_period                    0.9944      0.052     19.023      0.000       0.892       1.097\n",
      "if_g2g3_period:gender[T.Male]    -0.9267      0.073    -12.628      0.000      -1.071      -0.783\n",
      "==============================================================================\n",
      "Omnibus:                      954.149   Durbin-Watson:                   1.548\n",
      "Prob(Omnibus):                  0.000   Jarque-Bera (JB):             1031.186\n",
      "Skew:                           0.413   Prob(JB):                    1.20e-224\n",
      "Kurtosis:                       2.967   Cond. No.                         6.59\n",
      "==============================================================================\n",
      "\n",
      "Notes:\n",
      "[1] Standard Errors assume that the covariance matrix of the errors is correctly specified.\n"
     ]
    }
   ],
   "source": [
    "print(modely1_1.summary())"
   ]
  },
  {
   "cell_type": "code",
   "execution_count": null,
   "id": "6307bf55",
   "metadata": {},
   "outputs": [],
   "source": []
  },
  {
   "cell_type": "markdown",
   "id": "dd40e3a8",
   "metadata": {},
   "source": [
    "## Living area"
   ]
  },
  {
   "cell_type": "code",
   "execution_count": 248,
   "id": "30c457f6",
   "metadata": {},
   "outputs": [
    {
     "data": {
      "image/png": "[encoded data removed]",
      "text/plain": [
       "<Figure size 432x288 with 1 Axes>"
      ]
     },
     "metadata": {
      "needs_background": "light"
     },
     "output_type": "display_data"
    }
   ],
   "source": [
    "sns.violinplot(x='group', y='eduy_improvement', hue='living_area', data=data, split=True)\n",
    "plt.title('Distribution of intergenerational absolute education improvement in terms of years of education by living area')\n",
    "plt.xlabel('Period')\n",
    "\n",
    "# Show the plot\n",
    "plt.show()"
   ]
  },
  {
   "cell_type": "code",
   "execution_count": 249,
   "id": "9531e2f8",
   "metadata": {},
   "outputs": [
    {
     "data": {
      "image/png": "[encoded data removed]",
      "text/plain": [
       "<Figure size 432x288 with 1 Axes>"
      ]
     },
     "metadata": {
      "needs_background": "light"
     },
     "output_type": "display_data"
    }
   ],
   "source": [
    "sns.barplot(x='group', y='eduy_improvement', hue='living_area', data=data, ci=95, errcolor='red', errwidth=2)\n",
    "plt.title('Intergenerational absolute education improvement by living area')\n",
    "plt.xlabel('Period')\n",
    "\n",
    "# Show the plot\n",
    "plt.show()"
   ]
  },
  {
   "cell_type": "code",
   "execution_count": 250,
   "id": "d2dc6634",
   "metadata": {},
   "outputs": [
    {
     "name": "stdout",
     "output_type": "stream",
     "text": [
      "LR Test p-value: 0.0537\n",
      "DF difference: 1.0000\n"
     ]
    }
   ],
   "source": [
    "modely2_1 = smf.ols('eduy_improvement ~ if_g2g3_period + living_area + if_g2g3_period*living_area', data=df_all_period).fit()\n",
    "modely2_2 = smf.ols('eduy_improvement ~ if_g2g3_period + living_area', data=df_all_period).fit()\n",
    "\n",
    "# 比较两个模型并计算LR统计量和p值\n",
    "# 比较两个模型\n",
    "lr_test = modely2_1.compare_lr_test(modely2_2)\n",
    "\n",
    "# 打印比较结果\n",
    "print(f\"LR Test p-value: {lr_test[1]:.4f}\")\n",
    "print(f\"DF difference: {lr_test[2]:.4f}\")"
   ]
  },
  {
   "cell_type": "code",
   "execution_count": 251,
   "id": "f8a6e170",
   "metadata": {},
   "outputs": [
    {
     "data": {
      "text/html": [
       "<table class=\"simpletable\">\n",
       "<tr>\n",
       "        <td>Model:</td>               <td>OLS</td>         <td>Adj. R-squared:</td>      <td>0.060</td>   \n",
       "</tr>\n",
       "<tr>\n",
       "  <td>Dependent Variable:</td> <td>eduy_improvement</td>        <td>AIC:</td>         <td>191769.7667</td>\n",
       "</tr>\n",
       "<tr>\n",
       "         <td>Date:</td>        <td>2023-05-04 18:37</td>        <td>BIC:</td>         <td>191803.7569</td>\n",
       "</tr>\n",
       "<tr>\n",
       "   <td>No. Observations:</td>        <td>36227</td>        <td>Log-Likelihood:</td>     <td>-95881.</td>  \n",
       "</tr>\n",
       "<tr>\n",
       "       <td>Df Model:</td>              <td>3</td>           <td>F-statistic:</td>        <td>774.9</td>   \n",
       "</tr>\n",
       "<tr>\n",
       "     <td>Df Residuals:</td>          <td>36223</td>      <td>Prob (F-statistic):</td>    <td>0.00</td>    \n",
       "</tr>\n",
       "<tr>\n",
       "      <td>R-squared:</td>            <td>0.060</td>            <td>Scale:</td>          <td>11.653</td>   \n",
       "</tr>\n",
       "</table>\n",
       "<table class=\"simpletable\">\n",
       "<tr>\n",
       "                   <td></td>                    <th>Coef.</th> <th>Std.Err.</th>    <th>t</th>     <th>P>|t|</th> <th>[0.025</th>  <th>0.975]</th>\n",
       "</tr>\n",
       "<tr>\n",
       "  <th>Intercept</th>                           <td>2.0217</td>  <td>0.0319</td>  <td>63.3892</td> <td>0.0000</td> <td>1.9592</td>  <td>2.0842</td>\n",
       "</tr>\n",
       "<tr>\n",
       "  <th>living_area[T.urban]</th>                <td>1.5926</td>  <td>0.0484</td>  <td>32.9231</td> <td>0.0000</td> <td>1.4978</td>  <td>1.6874</td>\n",
       "</tr>\n",
       "<tr>\n",
       "  <th>if_g2g3_period</th>                      <td>0.4525</td>  <td>0.0484</td>  <td>9.3470</td>  <td>0.0000</td> <td>0.3576</td>  <td>0.5474</td>\n",
       "</tr>\n",
       "<tr>\n",
       "  <th>if_g2g3_period:living_area[T.urban]</th> <td>0.1403</td>  <td>0.0727</td>  <td>1.9295</td>  <td>0.0537</td> <td>-0.0022</td> <td>0.2829</td>\n",
       "</tr>\n",
       "</table>\n",
       "<table class=\"simpletable\">\n",
       "<tr>\n",
       "     <td>Omnibus:</td>    <td>724.519</td>  <td>Durbin-Watson:</td>    <td>1.673</td> \n",
       "</tr>\n",
       "<tr>\n",
       "  <td>Prob(Omnibus):</td>  <td>0.000</td>  <td>Jarque-Bera (JB):</td> <td>768.672</td>\n",
       "</tr>\n",
       "<tr>\n",
       "       <td>Skew:</td>      <td>0.357</td>      <td>Prob(JB):</td>      <td>0.000</td> \n",
       "</tr>\n",
       "<tr>\n",
       "     <td>Kurtosis:</td>    <td>2.988</td>   <td>Condition No.:</td>      <td>6</td>   \n",
       "</tr>\n",
       "</table>"
      ],
      "text/plain": [
       "<class 'statsmodels.iolib.summary2.Summary'>\n",
       "\"\"\"\n",
       "                         Results: Ordinary least squares\n",
       "=================================================================================\n",
       "Model:                   OLS                  Adj. R-squared:         0.060      \n",
       "Dependent Variable:      eduy_improvement     AIC:                    191769.7667\n",
       "Date:                    2023-05-04 18:37     BIC:                    191803.7569\n",
       "No. Observations:        36227                Log-Likelihood:         -95881.    \n",
       "Df Model:                3                    F-statistic:            774.9      \n",
       "Df Residuals:            36223                Prob (F-statistic):     0.00       \n",
       "R-squared:               0.060                Scale:                  11.653     \n",
       "---------------------------------------------------------------------------------\n",
       "                                    Coef.  Std.Err.    t    P>|t|   [0.025 0.975]\n",
       "---------------------------------------------------------------------------------\n",
       "Intercept                           2.0217   0.0319 63.3892 0.0000  1.9592 2.0842\n",
       "living_area[T.urban]                1.5926   0.0484 32.9231 0.0000  1.4978 1.6874\n",
       "if_g2g3_period                      0.4525   0.0484  9.3470 0.0000  0.3576 0.5474\n",
       "if_g2g3_period:living_area[T.urban] 0.1403   0.0727  1.9295 0.0537 -0.0022 0.2829\n",
       "---------------------------------------------------------------------------------\n",
       "Omnibus:                  724.519            Durbin-Watson:               1.673  \n",
       "Prob(Omnibus):            0.000              Jarque-Bera (JB):            768.672\n",
       "Skew:                     0.357              Prob(JB):                    0.000  \n",
       "Kurtosis:                 2.988              Condition No.:               6      \n",
       "=================================================================================\n",
       "\n",
       "\"\"\""
      ]
     },
     "execution_count": 251,
     "metadata": {},
     "output_type": "execute_result"
    }
   ],
   "source": [
    "modely2_1.summary2()"
   ]
  },
  {
   "cell_type": "code",
   "execution_count": null,
   "id": "7b9002cf",
   "metadata": {},
   "outputs": [],
   "source": []
  },
  {
   "cell_type": "markdown",
   "id": "c34ba6dc",
   "metadata": {},
   "source": [
    "## Family size"
   ]
  },
  {
   "cell_type": "code",
   "execution_count": 253,
   "id": "84993899",
   "metadata": {},
   "outputs": [],
   "source": [
    "X_g2 = g2_df[['familysize']]\n",
    "y_g2 = g2_df['eduy_improvement']\n",
    "\n",
    "X_g3 = g3_df[['familysize']]\n",
    "y_g3 = g3_df['eduy_improvement']"
   ]
  },
  {
   "cell_type": "code",
   "execution_count": 254,
   "id": "01cce68d",
   "metadata": {},
   "outputs": [
    {
     "data": {
      "text/plain": [
       "LinearRegression()"
      ]
     },
     "execution_count": 254,
     "metadata": {},
     "output_type": "execute_result"
    }
   ],
   "source": [
    "model_g2 = LinearRegression()\n",
    "\n",
    "model_g2.fit(X_g2, y_g2)\n",
    "\n",
    "model_g3 = LinearRegression()\n",
    "\n",
    "model_g3.fit(X_g3, y_g3)"
   ]
  },
  {
   "cell_type": "code",
   "execution_count": 255,
   "id": "1defc11a",
   "metadata": {},
   "outputs": [
    {
     "data": {
      "image/png": "[encoded data removed]",
      "text/plain": [
       "<Figure size 432x288 with 1 Axes>"
      ]
     },
     "metadata": {
      "needs_background": "light"
     },
     "output_type": "display_data"
    }
   ],
   "source": [
    "plt.scatter(X_g2, y_g2, alpha=0.3)\n",
    "\n",
    "plt.plot(X_g2, model_g2.predict(X_g2), color='r')\n",
    "\n",
    "plt.xlabel('Family size')\n",
    "plt.ylabel('Education year improvement')\n",
    "plt.show()"
   ]
  },
  {
   "cell_type": "code",
   "execution_count": 256,
   "id": "6eeadce3",
   "metadata": {},
   "outputs": [
    {
     "data": {
      "image/png": "[encoded data removed]",
      "text/plain": [
       "<Figure size 432x288 with 1 Axes>"
      ]
     },
     "metadata": {
      "needs_background": "light"
     },
     "output_type": "display_data"
    }
   ],
   "source": [
    "plt.scatter(X_g3, y_g3, alpha=0.3)\n",
    "plt.plot(X_g3, model_g3.predict(X_g3), color='g')\n",
    "plt.xlabel('Family size')\n",
    "plt.ylabel('Education year improvement')\n",
    "plt.show()"
   ]
  },
  {
   "cell_type": "code",
   "execution_count": 257,
   "id": "5affc905",
   "metadata": {},
   "outputs": [
    {
     "data": {
      "text/html": [
       "<table class=\"simpletable\">\n",
       "<tr>\n",
       "        <td>Model:</td>               <td>OLS</td>         <td>Adj. R-squared:</td>      <td>0.007</td>   \n",
       "</tr>\n",
       "<tr>\n",
       "  <td>Dependent Variable:</td> <td>eduy_improvement</td>        <td>AIC:</td>         <td>106917.5389</td>\n",
       "</tr>\n",
       "<tr>\n",
       "         <td>Date:</td>        <td>2023-05-04 18:49</td>        <td>BIC:</td>         <td>106933.3722</td>\n",
       "</tr>\n",
       "<tr>\n",
       "   <td>No. Observations:</td>        <td>20265</td>        <td>Log-Likelihood:</td>     <td>-53457.</td>  \n",
       "</tr>\n",
       "<tr>\n",
       "       <td>Df Model:</td>              <td>1</td>           <td>F-statistic:</td>        <td>153.5</td>   \n",
       "</tr>\n",
       "<tr>\n",
       "     <td>Df Residuals:</td>          <td>20263</td>      <td>Prob (F-statistic):</td>  <td>3.93e-35</td>  \n",
       "</tr>\n",
       "<tr>\n",
       "      <td>R-squared:</td>            <td>0.008</td>            <td>Scale:</td>          <td>11.450</td>   \n",
       "</tr>\n",
       "</table>\n",
       "<table class=\"simpletable\">\n",
       "<tr>\n",
       "       <td></td>       <th>Coef.</th>  <th>Std.Err.</th>     <th>t</th>     <th>P>|t|</th> <th>[0.025</th>  <th>0.975]</th> \n",
       "</tr>\n",
       "<tr>\n",
       "  <th>const</th>      <td>3.3099</td>   <td>0.0536</td>   <td>61.7039</td> <td>0.0000</td> <td>3.2047</td>  <td>3.4150</td> \n",
       "</tr>\n",
       "<tr>\n",
       "  <th>familysize</th> <td>-0.1473</td>  <td>0.0119</td>  <td>-12.3909</td> <td>0.0000</td> <td>-0.1706</td> <td>-0.1240</td>\n",
       "</tr>\n",
       "</table>\n",
       "<table class=\"simpletable\">\n",
       "<tr>\n",
       "     <td>Omnibus:</td>    <td>653.047</td>  <td>Durbin-Watson:</td>    <td>1.633</td> \n",
       "</tr>\n",
       "<tr>\n",
       "  <td>Prob(Omnibus):</td>  <td>0.000</td>  <td>Jarque-Bera (JB):</td> <td>713.539</td>\n",
       "</tr>\n",
       "<tr>\n",
       "       <td>Skew:</td>      <td>0.455</td>      <td>Prob(JB):</td>      <td>0.000</td> \n",
       "</tr>\n",
       "<tr>\n",
       "     <td>Kurtosis:</td>    <td>2.877</td>   <td>Condition No.:</td>     <td>11</td>   \n",
       "</tr>\n",
       "</table>"
      ],
      "text/plain": [
       "<class 'statsmodels.iolib.summary2.Summary'>\n",
       "\"\"\"\n",
       "                  Results: Ordinary least squares\n",
       "====================================================================\n",
       "Model:              OLS              Adj. R-squared:     0.007      \n",
       "Dependent Variable: eduy_improvement AIC:                106917.5389\n",
       "Date:               2023-05-04 18:49 BIC:                106933.3722\n",
       "No. Observations:   20265            Log-Likelihood:     -53457.    \n",
       "Df Model:           1                F-statistic:        153.5      \n",
       "Df Residuals:       20263            Prob (F-statistic): 3.93e-35   \n",
       "R-squared:          0.008            Scale:              11.450     \n",
       "---------------------------------------------------------------------\n",
       "                 Coef.   Std.Err.     t      P>|t|    [0.025   0.975]\n",
       "---------------------------------------------------------------------\n",
       "const            3.3099    0.0536   61.7039  0.0000   3.2047   3.4150\n",
       "familysize      -0.1473    0.0119  -12.3909  0.0000  -0.1706  -0.1240\n",
       "--------------------------------------------------------------------\n",
       "Omnibus:               653.047       Durbin-Watson:          1.633  \n",
       "Prob(Omnibus):         0.000         Jarque-Bera (JB):       713.539\n",
       "Skew:                  0.455         Prob(JB):               0.000  \n",
       "Kurtosis:              2.877         Condition No.:          11     \n",
       "====================================================================\n",
       "\n",
       "\"\"\""
      ]
     },
     "execution_count": 257,
     "metadata": {},
     "output_type": "execute_result"
    }
   ],
   "source": [
    "X_g2 = sm.add_constant(X_g2) # 加上常数项\n",
    "model_g2_sm = sm.OLS(y_g2, X_g2).fit()\n",
    "model_g2_sm.summary2()"
   ]
  },
  {
   "cell_type": "code",
   "execution_count": 258,
   "id": "cddd86a0",
   "metadata": {},
   "outputs": [
    {
     "data": {
      "text/html": [
       "<table class=\"simpletable\">\n",
       "<tr>\n",
       "        <td>Model:</td>               <td>OLS</td>         <td>Adj. R-squared:</td>      <td>0.006</td>  \n",
       "</tr>\n",
       "<tr>\n",
       "  <td>Dependent Variable:</td> <td>eduy_improvement</td>        <td>AIC:</td>         <td>86551.1311</td>\n",
       "</tr>\n",
       "<tr>\n",
       "         <td>Date:</td>        <td>2023-05-04 18:50</td>        <td>BIC:</td>         <td>86566.4871</td>\n",
       "</tr>\n",
       "<tr>\n",
       "   <td>No. Observations:</td>        <td>15962</td>        <td>Log-Likelihood:</td>     <td>-43274.</td> \n",
       "</tr>\n",
       "<tr>\n",
       "       <td>Df Model:</td>              <td>1</td>           <td>F-statistic:</td>        <td>97.69</td>  \n",
       "</tr>\n",
       "<tr>\n",
       "     <td>Df Residuals:</td>          <td>15960</td>      <td>Prob (F-statistic):</td>  <td>5.69e-23</td> \n",
       "</tr>\n",
       "<tr>\n",
       "      <td>R-squared:</td>            <td>0.006</td>            <td>Scale:</td>          <td>13.254</td>  \n",
       "</tr>\n",
       "</table>\n",
       "<table class=\"simpletable\">\n",
       "<tr>\n",
       "       <td></td>       <th>Coef.</th>  <th>Std.Err.</th>    <th>t</th>     <th>P>|t|</th> <th>[0.025</th>  <th>0.975]</th> \n",
       "</tr>\n",
       "<tr>\n",
       "  <th>const</th>      <td>3.8916</td>   <td>0.0707</td>  <td>55.0398</td> <td>0.0000</td> <td>3.7530</td>  <td>4.0302</td> \n",
       "</tr>\n",
       "<tr>\n",
       "  <th>familysize</th> <td>-0.1395</td>  <td>0.0141</td>  <td>-9.8839</td> <td>0.0000</td> <td>-0.1672</td> <td>-0.1118</td>\n",
       "</tr>\n",
       "</table>\n",
       "<table class=\"simpletable\">\n",
       "<tr>\n",
       "     <td>Omnibus:</td>    <td>317.555</td>  <td>Durbin-Watson:</td>    <td>1.575</td> \n",
       "</tr>\n",
       "<tr>\n",
       "  <td>Prob(Omnibus):</td>  <td>0.000</td>  <td>Jarque-Bera (JB):</td> <td>335.119</td>\n",
       "</tr>\n",
       "<tr>\n",
       "       <td>Skew:</td>      <td>0.351</td>      <td>Prob(JB):</td>      <td>0.000</td> \n",
       "</tr>\n",
       "<tr>\n",
       "     <td>Kurtosis:</td>    <td>2.899</td>   <td>Condition No.:</td>     <td>13</td>   \n",
       "</tr>\n",
       "</table>"
      ],
      "text/plain": [
       "<class 'statsmodels.iolib.summary2.Summary'>\n",
       "\"\"\"\n",
       "                  Results: Ordinary least squares\n",
       "===================================================================\n",
       "Model:              OLS              Adj. R-squared:     0.006     \n",
       "Dependent Variable: eduy_improvement AIC:                86551.1311\n",
       "Date:               2023-05-04 18:50 BIC:                86566.4871\n",
       "No. Observations:   15962            Log-Likelihood:     -43274.   \n",
       "Df Model:           1                F-statistic:        97.69     \n",
       "Df Residuals:       15960            Prob (F-statistic): 5.69e-23  \n",
       "R-squared:          0.006            Scale:              13.254    \n",
       "--------------------------------------------------------------------\n",
       "                 Coef.   Std.Err.     t     P>|t|    [0.025   0.975]\n",
       "--------------------------------------------------------------------\n",
       "const            3.8916    0.0707  55.0398  0.0000   3.7530   4.0302\n",
       "familysize      -0.1395    0.0141  -9.8839  0.0000  -0.1672  -0.1118\n",
       "-------------------------------------------------------------------\n",
       "Omnibus:              317.555       Durbin-Watson:          1.575  \n",
       "Prob(Omnibus):        0.000         Jarque-Bera (JB):       335.119\n",
       "Skew:                 0.351         Prob(JB):               0.000  \n",
       "Kurtosis:             2.899         Condition No.:          13     \n",
       "===================================================================\n",
       "\n",
       "\"\"\""
      ]
     },
     "execution_count": 258,
     "metadata": {},
     "output_type": "execute_result"
    }
   ],
   "source": [
    "X_g3 = sm.add_constant(X_g3) # 加上常数项\n",
    "model_g3_sm = sm.OLS(y_g3, X_g3).fit()\n",
    "model_g3_sm.summary2()"
   ]
  },
  {
   "cell_type": "code",
   "execution_count": 260,
   "id": "24e92b3f",
   "metadata": {},
   "outputs": [
    {
     "name": "stdout",
     "output_type": "stream",
     "text": [
      "                     Results: Ordinary least squares\n",
      "==========================================================================\n",
      "Model:                OLS                Adj. R-squared:       0.012      \n",
      "Dependent Variable:   eduy_improvement   AIC:                  193564.6975\n",
      "Date:                 2023-05-04 18:51   BIC:                  193598.6878\n",
      "No. Observations:     36227              Log-Likelihood:       -96778.    \n",
      "Df Model:             3                  F-statistic:          153.8      \n",
      "Df Residuals:         36223              Prob (F-statistic):   4.55e-99   \n",
      "R-squared:            0.013              Scale:                12.245     \n",
      "--------------------------------------------------------------------------\n",
      "                           Coef.  Std.Err.    t     P>|t|   [0.025  0.975]\n",
      "--------------------------------------------------------------------------\n",
      "Intercept                  3.3099   0.0555  59.6673 0.0000  3.2011  3.4186\n",
      "if_g2g3_period             0.5817   0.0877   6.6313 0.0000  0.4098  0.7537\n",
      "familysize                -0.1473   0.0123 -11.9819 0.0000 -0.1714 -0.1232\n",
      "if_g2g3_period:familysize  0.0078   0.0183   0.4238 0.6717 -0.0281  0.0436\n",
      "--------------------------------------------------------------------------\n",
      "Omnibus:                932.874         Durbin-Watson:            1.605   \n",
      "Prob(Omnibus):          0.000           Jarque-Bera (JB):         1002.938\n",
      "Skew:                   0.405           Prob(JB):                 0.000   \n",
      "Kurtosis:               2.904           Condition No.:            29      \n",
      "==========================================================================\n",
      "\n"
     ]
    }
   ],
   "source": [
    "modely3_1 = smf.ols('eduy_improvement ~ if_g2g3_period + familysize + if_g2g3_period*familysize', data=df_all_period).fit()\n",
    "print(modely3_1.summary2())"
   ]
  },
  {
   "cell_type": "code",
   "execution_count": null,
   "id": "8f36e10f",
   "metadata": {},
   "outputs": [],
   "source": []
  },
  {
   "cell_type": "code",
   "execution_count": null,
   "id": "a2e1f117",
   "metadata": {},
   "outputs": [],
   "source": []
  },
  {
   "cell_type": "code",
   "execution_count": null,
   "id": "5a61ca6a",
   "metadata": {},
   "outputs": [],
   "source": []
  },
  {
   "cell_type": "markdown",
   "id": "ec4859d6",
   "metadata": {},
   "source": [
    "# Absolute education improvement"
   ]
  },
  {
   "cell_type": "code",
   "execution_count": null,
   "id": "050ac7f5",
   "metadata": {},
   "outputs": [],
   "source": []
  },
  {
   "cell_type": "code",
   "execution_count": null,
   "id": "a1c7a87a",
   "metadata": {},
   "outputs": [],
   "source": []
  },
  {
   "cell_type": "code",
   "execution_count": null,
   "id": "9336cce0",
   "metadata": {},
   "outputs": [],
   "source": []
  },
  {
   "cell_type": "code",
   "execution_count": null,
   "id": "37b153b5",
   "metadata": {},
   "outputs": [],
   "source": []
  },
  {
   "cell_type": "code",
   "execution_count": 129,
   "id": "90042f40",
   "metadata": {},
   "outputs": [
    {
     "data": {
      "text/html": [
       "<div>\n",
       "<style scoped>\n",
       "    .dataframe tbody tr th:only-of-type {\n",
       "        vertical-align: middle;\n",
       "    }\n",
       "\n",
       "    .dataframe tbody tr th {\n",
       "        vertical-align: top;\n",
       "    }\n",
       "\n",
       "    .dataframe thead th {\n",
       "        text-align: right;\n",
       "    }\n",
       "</style>\n",
       "<table border=\"1\" class=\"dataframe\">\n",
       "  <thead>\n",
       "    <tr style=\"text-align: right;\">\n",
       "      <th></th>\n",
       "      <th>edu_improvement</th>\n",
       "    </tr>\n",
       "  </thead>\n",
       "  <tbody>\n",
       "    <tr>\n",
       "      <th>count</th>\n",
       "      <td>21665.000000</td>\n",
       "    </tr>\n",
       "    <tr>\n",
       "      <th>mean</th>\n",
       "      <td>0.947150</td>\n",
       "    </tr>\n",
       "    <tr>\n",
       "      <th>std</th>\n",
       "      <td>1.166872</td>\n",
       "    </tr>\n",
       "    <tr>\n",
       "      <th>min</th>\n",
       "      <td>-5.000000</td>\n",
       "    </tr>\n",
       "    <tr>\n",
       "      <th>25%</th>\n",
       "      <td>0.000000</td>\n",
       "    </tr>\n",
       "    <tr>\n",
       "      <th>50%</th>\n",
       "      <td>1.000000</td>\n",
       "    </tr>\n",
       "    <tr>\n",
       "      <th>75%</th>\n",
       "      <td>2.000000</td>\n",
       "    </tr>\n",
       "    <tr>\n",
       "      <th>max</th>\n",
       "      <td>6.000000</td>\n",
       "    </tr>\n",
       "  </tbody>\n",
       "</table>\n",
       "</div>"
      ],
      "text/plain": [
       "       edu_improvement\n",
       "count     21665.000000\n",
       "mean          0.947150\n",
       "std           1.166872\n",
       "min          -5.000000\n",
       "25%           0.000000\n",
       "50%           1.000000\n",
       "75%           2.000000\n",
       "max           6.000000"
      ]
     },
     "execution_count": 129,
     "metadata": {},
     "output_type": "execute_result"
    }
   ],
   "source": [
    "g2_df[['edu_improvement']].describe()"
   ]
  },
  {
   "cell_type": "code",
   "execution_count": 130,
   "id": "5c103711",
   "metadata": {},
   "outputs": [
    {
     "data": {
      "text/html": [
       "<div>\n",
       "<style scoped>\n",
       "    .dataframe tbody tr th:only-of-type {\n",
       "        vertical-align: middle;\n",
       "    }\n",
       "\n",
       "    .dataframe tbody tr th {\n",
       "        vertical-align: top;\n",
       "    }\n",
       "\n",
       "    .dataframe thead th {\n",
       "        text-align: right;\n",
       "    }\n",
       "</style>\n",
       "<table border=\"1\" class=\"dataframe\">\n",
       "  <thead>\n",
       "    <tr style=\"text-align: right;\">\n",
       "      <th></th>\n",
       "      <th>edu_improvement</th>\n",
       "    </tr>\n",
       "  </thead>\n",
       "  <tbody>\n",
       "    <tr>\n",
       "      <th>count</th>\n",
       "      <td>17099.000000</td>\n",
       "    </tr>\n",
       "    <tr>\n",
       "      <th>mean</th>\n",
       "      <td>1.145856</td>\n",
       "    </tr>\n",
       "    <tr>\n",
       "      <th>std</th>\n",
       "      <td>1.297920</td>\n",
       "    </tr>\n",
       "    <tr>\n",
       "      <th>min</th>\n",
       "      <td>-3.500000</td>\n",
       "    </tr>\n",
       "    <tr>\n",
       "      <th>25%</th>\n",
       "      <td>0.000000</td>\n",
       "    </tr>\n",
       "    <tr>\n",
       "      <th>50%</th>\n",
       "      <td>1.000000</td>\n",
       "    </tr>\n",
       "    <tr>\n",
       "      <th>75%</th>\n",
       "      <td>2.000000</td>\n",
       "    </tr>\n",
       "    <tr>\n",
       "      <th>max</th>\n",
       "      <td>7.000000</td>\n",
       "    </tr>\n",
       "  </tbody>\n",
       "</table>\n",
       "</div>"
      ],
      "text/plain": [
       "       edu_improvement\n",
       "count     17099.000000\n",
       "mean          1.145856\n",
       "std           1.297920\n",
       "min          -3.500000\n",
       "25%           0.000000\n",
       "50%           1.000000\n",
       "75%           2.000000\n",
       "max           7.000000"
      ]
     },
     "execution_count": 130,
     "metadata": {},
     "output_type": "execute_result"
    }
   ],
   "source": [
    "g3_df[['edu_improvement']].describe()"
   ]
  },
  {
   "cell_type": "code",
   "execution_count": 131,
   "id": "f121cbeb",
   "metadata": {},
   "outputs": [
    {
     "name": "stdout",
     "output_type": "stream",
     "text": [
      "t value is： -15.839047227462133\n",
      "p value is： 2.5149309574185074e-56\n"
     ]
    }
   ],
   "source": [
    "t, p = ttest_ind(g2_df['edu_improvement'], g3_df['edu_improvement'])\n",
    "\n",
    "print(\"t value is：\", t)\n",
    "print(\"p value is：\", p)"
   ]
  },
  {
   "cell_type": "code",
   "execution_count": 223,
   "id": "94711bd2",
   "metadata": {},
   "outputs": [
    {
     "data": {
      "image/png": "[encoded data removed]",
      "text/plain": [
       "<Figure size 432x288 with 1 Axes>"
      ]
     },
     "metadata": {
      "needs_background": "light"
     },
     "output_type": "display_data"
    }
   ],
   "source": [
    "plt.hist(g2_df['edu_improvement'], alpha=0.5, label='g1-g2', density = True)\n",
    "plt.hist(g3_df['edu_improvement'], alpha=0.5, label='g2-g3', density = True)\n",
    "plt.legend(loc='upper right')\n",
    "plt.title('Distribution of absolute education improvement')\n",
    "plt.xlabel('Abs_edu_improve')\n",
    "plt.ylabel('Freq')\n",
    "plt.show()"
   ]
  },
  {
   "cell_type": "code",
   "execution_count": 133,
   "id": "806536c2",
   "metadata": {},
   "outputs": [
    {
     "data": {
      "text/html": [
       "<table class=\"simpletable\">\n",
       "<tr>\n",
       "        <td>Model:</td>               <td>OLS</td>         <td>Adj. R-squared:</td>      <td>0.006</td>   \n",
       "</tr>\n",
       "<tr>\n",
       "  <td>Dependent Variable:</td>  <td>edu_improvement</td>        <td>AIC:</td>         <td>125831.9260</td>\n",
       "</tr>\n",
       "<tr>\n",
       "         <td>Date:</td>        <td>2023-05-02 18:47</td>        <td>BIC:</td>         <td>125849.0565</td>\n",
       "</tr>\n",
       "<tr>\n",
       "   <td>No. Observations:</td>        <td>38764</td>        <td>Log-Likelihood:</td>     <td>-62914.</td>  \n",
       "</tr>\n",
       "<tr>\n",
       "       <td>Df Model:</td>              <td>1</td>           <td>F-statistic:</td>        <td>250.9</td>   \n",
       "</tr>\n",
       "<tr>\n",
       "     <td>Df Residuals:</td>          <td>38762</td>      <td>Prob (F-statistic):</td>  <td>2.51e-56</td>  \n",
       "</tr>\n",
       "<tr>\n",
       "      <td>R-squared:</td>            <td>0.006</td>            <td>Scale:</td>          <td>1.5041</td>   \n",
       "</tr>\n",
       "</table>\n",
       "<table class=\"simpletable\">\n",
       "<tr>\n",
       "         <td></td>         <th>Coef.</th> <th>Std.Err.</th>     <th>t</th>     <th>P>|t|</th> <th>[0.025</th> <th>0.975]</th>\n",
       "</tr>\n",
       "<tr>\n",
       "  <th>const</th>          <td>0.9471</td>  <td>0.0083</td>  <td>113.6748</td> <td>0.0000</td> <td>0.9308</td> <td>0.9635</td>\n",
       "</tr>\n",
       "<tr>\n",
       "  <th>if_g2g3_period</th> <td>0.1987</td>  <td>0.0125</td>   <td>15.8390</td> <td>0.0000</td> <td>0.1741</td> <td>0.2233</td>\n",
       "</tr>\n",
       "</table>\n",
       "<table class=\"simpletable\">\n",
       "<tr>\n",
       "     <td>Omnibus:</td>    <td>1792.258</td>  <td>Durbin-Watson:</td>     <td>1.559</td> \n",
       "</tr>\n",
       "<tr>\n",
       "  <td>Prob(Omnibus):</td>   <td>0.000</td>  <td>Jarque-Bera (JB):</td> <td>2058.434</td>\n",
       "</tr>\n",
       "<tr>\n",
       "       <td>Skew:</td>       <td>0.542</td>      <td>Prob(JB):</td>       <td>0.000</td> \n",
       "</tr>\n",
       "<tr>\n",
       "     <td>Kurtosis:</td>     <td>3.315</td>   <td>Condition No.:</td>       <td>3</td>   \n",
       "</tr>\n",
       "</table>"
      ],
      "text/plain": [
       "<class 'statsmodels.iolib.summary2.Summary'>\n",
       "\"\"\"\n",
       "                  Results: Ordinary least squares\n",
       "====================================================================\n",
       "Model:              OLS              Adj. R-squared:     0.006      \n",
       "Dependent Variable: edu_improvement  AIC:                125831.9260\n",
       "Date:               2023-05-02 18:47 BIC:                125849.0565\n",
       "No. Observations:   38764            Log-Likelihood:     -62914.    \n",
       "Df Model:           1                F-statistic:        250.9      \n",
       "Df Residuals:       38762            Prob (F-statistic): 2.51e-56   \n",
       "R-squared:          0.006            Scale:              1.5041     \n",
       "---------------------------------------------------------------------\n",
       "                   Coef.   Std.Err.     t      P>|t|   [0.025  0.975]\n",
       "---------------------------------------------------------------------\n",
       "const              0.9471    0.0083  113.6748  0.0000  0.9308  0.9635\n",
       "if_g2g3_period     0.1987    0.0125   15.8390  0.0000  0.1741  0.2233\n",
       "--------------------------------------------------------------------\n",
       "Omnibus:             1792.258       Durbin-Watson:          1.559   \n",
       "Prob(Omnibus):       0.000          Jarque-Bera (JB):       2058.434\n",
       "Skew:                0.542          Prob(JB):               0.000   \n",
       "Kurtosis:            3.315          Condition No.:          3       \n",
       "====================================================================\n",
       "\n",
       "\"\"\""
      ]
     },
     "execution_count": 133,
     "metadata": {},
     "output_type": "execute_result"
    }
   ],
   "source": [
    "Y = df_all_period['edu_improvement']\n",
    "X = df_all_period[['if_g2g3_period']]\n",
    "X = sm.add_constant(X)\n",
    "model = sm.OLS(Y,X)\n",
    "results = model.fit()\n",
    "results.summary2()"
   ]
  },
  {
   "cell_type": "markdown",
   "id": "695f78d9",
   "metadata": {},
   "source": [
    "## Gender"
   ]
  },
  {
   "cell_type": "code",
   "execution_count": null,
   "id": "0e3520bc",
   "metadata": {},
   "outputs": [],
   "source": [
    "data = pd.concat([g2_df.assign(group='g1-g2'), g3_df.assign(group='g2-g3')])"
   ]
  },
  {
   "cell_type": "code",
   "execution_count": 192,
   "id": "45f057dd",
   "metadata": {},
   "outputs": [
    {
     "data": {
      "image/png": "[encoded data removed]",
      "text/plain": [
       "<Figure size 432x288 with 1 Axes>"
      ]
     },
     "metadata": {
      "needs_background": "light"
     },
     "output_type": "display_data"
    }
   ],
   "source": [
    "sns.violinplot(x='group', y='edu_improvement', hue='gender', data=data, split=True)\n",
    "plt.title('Distribution of intergenerational absolute education improvement by gender')\n",
    "plt.xlabel('Period')\n",
    "\n",
    "# Show the plot\n",
    "plt.show()"
   ]
  },
  {
   "cell_type": "code",
   "execution_count": 193,
   "id": "e685206e",
   "metadata": {},
   "outputs": [
    {
     "data": {
      "image/png": "[encoded data removed]",
      "text/plain": [
       "<Figure size 432x288 with 1 Axes>"
      ]
     },
     "metadata": {
      "needs_background": "light"
     },
     "output_type": "display_data"
    }
   ],
   "source": [
    "sns.barplot(x='group', y='edu_improvement', hue='gender', data=data, ci=95, errcolor='red', errwidth=2)\n",
    "plt.title('Intergenerational absolute education improvement by gender')\n",
    "plt.xlabel('Period')\n",
    "\n",
    "# Show the plot\n",
    "plt.show()"
   ]
  },
  {
   "cell_type": "code",
   "execution_count": 201,
   "id": "0eacbd79",
   "metadata": {},
   "outputs": [
    {
     "name": "stdout",
     "output_type": "stream",
     "text": [
      "Requirement already satisfied: statsmodels in /Library/anaconda3/lib/python3.7/site-packages (0.13.0)\n",
      "Collecting statsmodels\n",
      "  Downloading statsmodels-0.13.5-cp37-cp37m-macosx_10_9_x86_64.whl (9.6 MB)\n",
      "\u001b[2K     \u001b[90m━━━━━━━━━━━━━━━━━━━━━━━━━━━━━━━━━━━━━━━━\u001b[0m \u001b[32m9.6/9.6 MB\u001b[0m \u001b[31m2.8 MB/s\u001b[0m eta \u001b[36m0:00:00\u001b[0m00:01\u001b[0m00:01\u001b[0m\n",
      "\u001b[?25hRequirement already satisfied: numpy>=1.17 in /Library/anaconda3/lib/python3.7/site-packages (from statsmodels) (1.21.2)\n",
      "Requirement already satisfied: scipy<1.8,>=1.3 in /Library/anaconda3/lib/python3.7/site-packages (from statsmodels) (1.7.3)\n",
      "Requirement already satisfied: packaging>=21.3 in /Library/anaconda3/lib/python3.7/site-packages (from statsmodels) (21.3)\n",
      "Requirement already satisfied: patsy>=0.5.2 in /Library/anaconda3/lib/python3.7/site-packages (from statsmodels) (0.5.2)\n",
      "Requirement already satisfied: pandas>=0.25 in /Library/anaconda3/lib/python3.7/site-packages (from statsmodels) (1.3.4)\n",
      "Requirement already satisfied: pyparsing!=3.0.5,>=2.0.2 in /Library/anaconda3/lib/python3.7/site-packages (from packaging>=21.3->statsmodels) (3.0.4)\n",
      "Requirement already satisfied: python-dateutil>=2.7.3 in /Library/anaconda3/lib/python3.7/site-packages (from pandas>=0.25->statsmodels) (2.8.2)\n",
      "Requirement already satisfied: pytz>=2017.3 in /Library/anaconda3/lib/python3.7/site-packages (from pandas>=0.25->statsmodels) (2021.3)\n",
      "Requirement already satisfied: six in /Library/anaconda3/lib/python3.7/site-packages (from patsy>=0.5.2->statsmodels) (1.16.0)\n",
      "Installing collected packages: statsmodels\n",
      "  Attempting uninstall: statsmodels\n",
      "    Found existing installation: statsmodels 0.13.0\n",
      "    Uninstalling statsmodels-0.13.0:\n",
      "      Successfully uninstalled statsmodels-0.13.0\n",
      "Successfully installed statsmodels-0.13.5\n",
      "\u001b[33mWARNING: You are using pip version 22.0.4; however, version 23.1.2 is available.\n",
      "You should consider upgrading via the '/Library/anaconda3/bin/python -m pip install --upgrade pip' command.\u001b[0m\u001b[33m\n",
      "\u001b[0m"
     ]
    }
   ],
   "source": [
    "!pip install --upgrade statsmodels"
   ]
  },
  {
   "cell_type": "code",
   "execution_count": 204,
   "id": "cac8dae1",
   "metadata": {},
   "outputs": [
    {
     "name": "stdout",
     "output_type": "stream",
     "text": [
      "LR Test p-value: 0.0000\n",
      "DF difference: 1.0000\n"
     ]
    }
   ],
   "source": [
    "model1_1 = smf.ols('edu_improvement ~ if_g2g3_period + gender + if_g2g3_period*gender', data=df_all_period).fit()\n",
    "model1_2 = smf.ols('edu_improvement ~ if_g2g3_period + gender', data=df_all_period).fit()\n",
    "\n",
    "# 比较两个模型并计算LR统计量和p值\n",
    "# 比较两个模型\n",
    "lr_test = model1_1.compare_lr_test(model1_2)\n",
    "\n",
    "# 打印比较结果\n",
    "print(f\"LR Test p-value: {lr_test[1]:.4f}\")\n",
    "print(f\"DF difference: {lr_test[2]:.4f}\")"
   ]
  },
  {
   "cell_type": "code",
   "execution_count": 143,
   "id": "fdbcf9f0",
   "metadata": {},
   "outputs": [
    {
     "name": "stdout",
     "output_type": "stream",
     "text": [
      "                            OLS Regression Results                            \n",
      "==============================================================================\n",
      "Dep. Variable:        edu_improvement   R-squared:                       0.029\n",
      "Model:                            OLS   Adj. R-squared:                  0.029\n",
      "Method:                 Least Squares   F-statistic:                     390.5\n",
      "Date:                Tue, 02 May 2023   Prob (F-statistic):          6.26e-250\n",
      "Time:                        19:08:32   Log-Likelihood:                -62462.\n",
      "No. Observations:               38764   AIC:                         1.249e+05\n",
      "Df Residuals:                   38760   BIC:                         1.250e+05\n",
      "Df Model:                           3                                         \n",
      "Covariance Type:            nonrobust                                         \n",
      "=================================================================================================\n",
      "                                    coef    std err          t      P>|t|      [0.025      0.975]\n",
      "-------------------------------------------------------------------------------------------------\n",
      "Intercept                         0.7089      0.012     60.794      0.000       0.686       0.732\n",
      "gender[T.Male]                    0.4755      0.016     28.867      0.000       0.443       0.508\n",
      "if_g2g3_period                    0.3515      0.018     19.908      0.000       0.317       0.386\n",
      "if_g2g3_period:gender[T.Male]    -0.3081      0.025    -12.420      0.000      -0.357      -0.259\n",
      "==============================================================================\n",
      "Omnibus:                     1840.396   Durbin-Watson:                   1.520\n",
      "Prob(Omnibus):                  0.000   Jarque-Bera (JB):             2135.412\n",
      "Skew:                           0.542   Prob(JB):                         0.00\n",
      "Kurtosis:                       3.384   Cond. No.                         6.59\n",
      "==============================================================================\n",
      "\n",
      "Notes:\n",
      "[1] Standard Errors assume that the covariance matrix of the errors is correctly specified.\n"
     ]
    }
   ],
   "source": [
    "print(model1.summary())"
   ]
  },
  {
   "cell_type": "code",
   "execution_count": null,
   "id": "3e16814f",
   "metadata": {},
   "outputs": [],
   "source": []
  },
  {
   "cell_type": "code",
   "execution_count": null,
   "id": "e1814a64",
   "metadata": {},
   "outputs": [],
   "source": []
  },
  {
   "cell_type": "markdown",
   "id": "b6df964b",
   "metadata": {},
   "source": [
    "## Living area"
   ]
  },
  {
   "cell_type": "code",
   "execution_count": 142,
   "id": "d22fd281",
   "metadata": {},
   "outputs": [
    {
     "data": {
      "image/png": "[encoded data removed]",
      "text/plain": [
       "<Figure size 432x288 with 1 Axes>"
      ]
     },
     "metadata": {
      "needs_background": "light"
     },
     "output_type": "display_data"
    }
   ],
   "source": [
    "sns.violinplot(x='group', y='edu_improvement', hue='living_area', data=data, split=True)\n",
    "plt.title('Intergenerational absolute education improvement based on living area')\n",
    "plt.xlabel('Period')\n",
    "\n",
    "# Show the plot\n",
    "plt.show()"
   ]
  },
  {
   "cell_type": "code",
   "execution_count": 194,
   "id": "1c26cca8",
   "metadata": {},
   "outputs": [
    {
     "data": {
      "image/png": "[encoded data removed]",
      "text/plain": [
       "<Figure size 432x288 with 1 Axes>"
      ]
     },
     "metadata": {
      "needs_background": "light"
     },
     "output_type": "display_data"
    }
   ],
   "source": [
    "sns.barplot(x='group', y='edu_improvement', hue='living_area', data=data, ci=95, errcolor='red', errwidth=2)\n",
    "plt.title('Intergenerational absolute education improvement by living area')\n",
    "plt.xlabel('Period')\n",
    "\n",
    "# Show the plot\n",
    "plt.show()"
   ]
  },
  {
   "cell_type": "code",
   "execution_count": 205,
   "id": "ace0bc69",
   "metadata": {},
   "outputs": [
    {
     "name": "stdout",
     "output_type": "stream",
     "text": [
      "LR Test p-value: 0.0870\n",
      "DF difference: 1.0000\n"
     ]
    }
   ],
   "source": [
    "model2_1 = smf.ols('edu_improvement ~ if_g2g3_period + living_area + if_g2g3_period*living_area', data=df_all_period).fit()\n",
    "model2_2 = smf.ols('edu_improvement ~ if_g2g3_period + living_area', data=df_all_period).fit()\n",
    "\n",
    "# 比较两个模型并计算LR统计量和p值\n",
    "# 比较两个模型\n",
    "lr_test = model2_1.compare_lr_test(model2_2)\n",
    "\n",
    "# 打印比较结果\n",
    "print(f\"LR Test p-value: {lr_test[1]:.4f}\")\n",
    "print(f\"DF difference: {lr_test[2]:.4f}\")"
   ]
  },
  {
   "cell_type": "code",
   "execution_count": 207,
   "id": "aa6141dc",
   "metadata": {},
   "outputs": [
    {
     "name": "stdout",
     "output_type": "stream",
     "text": [
      "                            OLS Regression Results                            \n",
      "==============================================================================\n",
      "Dep. Variable:        edu_improvement   R-squared:                       0.068\n",
      "Model:                            OLS   Adj. R-squared:                  0.068\n",
      "Method:                 Least Squares   F-statistic:                     1414.\n",
      "Date:                Wed, 03 May 2023   Prob (F-statistic):               0.00\n",
      "Time:                        01:21:54   Log-Likelihood:                -61674.\n",
      "No. Observations:               38764   AIC:                         1.234e+05\n",
      "Df Residuals:                   38761   BIC:                         1.234e+05\n",
      "Df Model:                           2                                         \n",
      "Covariance Type:            nonrobust                                         \n",
      "========================================================================================\n",
      "                           coef    std err          t      P>|t|      [0.025      0.975]\n",
      "----------------------------------------------------------------------------------------\n",
      "Intercept                0.6693      0.010     68.571      0.000       0.650       0.688\n",
      "living_area[T.urban]     0.6126      0.012     50.611      0.000       0.589       0.636\n",
      "if_g2g3_period           0.1882      0.012     15.484      0.000       0.164       0.212\n",
      "==============================================================================\n",
      "Omnibus:                     1445.765   Durbin-Watson:                   1.651\n",
      "Prob(Omnibus):                  0.000   Jarque-Bera (JB):             1650.629\n",
      "Skew:                           0.464   Prob(JB):                         0.00\n",
      "Kurtosis:                       3.401   Cond. No.                         2.97\n",
      "==============================================================================\n",
      "\n",
      "Notes:\n",
      "[1] Standard Errors assume that the covariance matrix of the errors is correctly specified.\n"
     ]
    }
   ],
   "source": [
    "# 输出模型摘要信息\n",
    "print(model2_2.summary())"
   ]
  },
  {
   "cell_type": "code",
   "execution_count": null,
   "id": "db7d73e6",
   "metadata": {},
   "outputs": [],
   "source": []
  },
  {
   "cell_type": "markdown",
   "id": "1ff20f5b",
   "metadata": {},
   "source": [
    "## Family size"
   ]
  },
  {
   "cell_type": "code",
   "execution_count": 148,
   "id": "5feb5d46",
   "metadata": {},
   "outputs": [],
   "source": [
    "X_g2 = g2_df[['real_familysize']]\n",
    "y_g2 = g2_df['edu_improvement']\n",
    "\n",
    "X_g3 = g3_df[['real_familysize']]\n",
    "y_g3 = g3_df['edu_improvement']"
   ]
  },
  {
   "cell_type": "code",
   "execution_count": 155,
   "id": "7287549c",
   "metadata": {},
   "outputs": [
    {
     "data": {
      "text/plain": [
       "LinearRegression()"
      ]
     },
     "execution_count": 155,
     "metadata": {},
     "output_type": "execute_result"
    }
   ],
   "source": [
    "model_g2 = LinearRegression()\n",
    "\n",
    "model_g2.fit(X_g2, y_g2)\n",
    "\n",
    "model_g3 = LinearRegression()\n",
    "\n",
    "model_g3.fit(X_g3, y_g3)"
   ]
  },
  {
   "cell_type": "code",
   "execution_count": 160,
   "id": "7b11fc23",
   "metadata": {},
   "outputs": [
    {
     "data": {
      "image/png": "[encoded data removed]",
      "text/plain": [
       "<Figure size 432x288 with 1 Axes>"
      ]
     },
     "metadata": {
      "needs_background": "light"
     },
     "output_type": "display_data"
    }
   ],
   "source": [
    "plt.scatter(X_g2, y_g2, alpha=0.3)\n",
    "\n",
    "plt.plot(X_g2, model_g2.predict(X_g2), color='r')\n",
    "\n",
    "plt.xlabel('Family size')\n",
    "plt.ylabel('Education improvement')\n",
    "plt.show()"
   ]
  },
  {
   "cell_type": "code",
   "execution_count": 161,
   "id": "fe32f1ef",
   "metadata": {},
   "outputs": [
    {
     "data": {
      "image/png": "[encoded data removed]",
      "text/plain": [
       "<Figure size 432x288 with 1 Axes>"
      ]
     },
     "metadata": {
      "needs_background": "light"
     },
     "output_type": "display_data"
    }
   ],
   "source": [
    "plt.scatter(X_g3, y_g3, alpha=0.3)\n",
    "plt.plot(X_g3, model_g3.predict(X_g3), color='g')\n",
    "plt.xlabel('Family size')\n",
    "plt.ylabel('Education improvement')\n",
    "plt.show()"
   ]
  },
  {
   "cell_type": "code",
   "execution_count": 162,
   "id": "6c8abb39",
   "metadata": {},
   "outputs": [],
   "source": [
    "X_g2 = sm.add_constant(X_g2) # 加上常数项\n",
    "model_g2_sm = sm.OLS(y_g2, X_g2).fit()\n",
    "\n",
    "\n",
    "X_g3 = sm.add_constant(X_g3) # 加上常数项\n",
    "model_g3_sm = sm.OLS(y_g3, X_g3).fit()\n"
   ]
  },
  {
   "cell_type": "code",
   "execution_count": 163,
   "id": "e50bbdb7",
   "metadata": {},
   "outputs": [
    {
     "data": {
      "text/html": [
       "<table class=\"simpletable\">\n",
       "<tr>\n",
       "        <td>Model:</td>               <td>OLS</td>         <td>Adj. R-squared:</td>      <td>0.009</td>  \n",
       "</tr>\n",
       "<tr>\n",
       "  <td>Dependent Variable:</td>  <td>edu_improvement</td>        <td>AIC:</td>         <td>67967.7585</td>\n",
       "</tr>\n",
       "<tr>\n",
       "         <td>Date:</td>        <td>2023-05-02 21:47</td>        <td>BIC:</td>         <td>67983.7254</td>\n",
       "</tr>\n",
       "<tr>\n",
       "   <td>No. Observations:</td>        <td>21665</td>        <td>Log-Likelihood:</td>     <td>-33982.</td> \n",
       "</tr>\n",
       "<tr>\n",
       "       <td>Df Model:</td>              <td>1</td>           <td>F-statistic:</td>        <td>205.8</td>  \n",
       "</tr>\n",
       "<tr>\n",
       "     <td>Df Residuals:</td>          <td>21663</td>      <td>Prob (F-statistic):</td>  <td>1.88e-46</td> \n",
       "</tr>\n",
       "<tr>\n",
       "      <td>R-squared:</td>            <td>0.009</td>            <td>Scale:</td>          <td>1.3488</td>  \n",
       "</tr>\n",
       "</table>\n",
       "<table class=\"simpletable\">\n",
       "<tr>\n",
       "         <td></td>          <th>Coef.</th>  <th>Std.Err.</th>     <th>t</th>     <th>P>|t|</th> <th>[0.025</th>  <th>0.975]</th> \n",
       "</tr>\n",
       "<tr>\n",
       "  <th>const</th>           <td>1.1761</td>   <td>0.0178</td>   <td>66.0538</td> <td>0.0000</td> <td>1.1412</td>  <td>1.2110</td> \n",
       "</tr>\n",
       "<tr>\n",
       "  <th>real_familysize</th> <td>-0.0572</td>  <td>0.0040</td>  <td>-14.3447</td> <td>0.0000</td> <td>-0.0650</td> <td>-0.0494</td>\n",
       "</tr>\n",
       "</table>\n",
       "<table class=\"simpletable\">\n",
       "<tr>\n",
       "     <td>Omnibus:</td>    <td>845.559</td>  <td>Durbin-Watson:</td>    <td>1.596</td> \n",
       "</tr>\n",
       "<tr>\n",
       "  <td>Prob(Omnibus):</td>  <td>0.000</td>  <td>Jarque-Bera (JB):</td> <td>947.280</td>\n",
       "</tr>\n",
       "<tr>\n",
       "       <td>Skew:</td>      <td>0.501</td>      <td>Prob(JB):</td>      <td>0.000</td> \n",
       "</tr>\n",
       "<tr>\n",
       "     <td>Kurtosis:</td>    <td>3.214</td>   <td>Condition No.:</td>     <td>10</td>   \n",
       "</tr>\n",
       "</table>"
      ],
      "text/plain": [
       "<class 'statsmodels.iolib.summary2.Summary'>\n",
       "\"\"\"\n",
       "                  Results: Ordinary least squares\n",
       "===================================================================\n",
       "Model:              OLS              Adj. R-squared:     0.009     \n",
       "Dependent Variable: edu_improvement  AIC:                67967.7585\n",
       "Date:               2023-05-02 21:47 BIC:                67983.7254\n",
       "No. Observations:   21665            Log-Likelihood:     -33982.   \n",
       "Df Model:           1                F-statistic:        205.8     \n",
       "Df Residuals:       21663            Prob (F-statistic): 1.88e-46  \n",
       "R-squared:          0.009            Scale:              1.3488    \n",
       "-------------------------------------------------------------------\n",
       "                    Coef.  Std.Err.    t     P>|t|   [0.025  0.975]\n",
       "-------------------------------------------------------------------\n",
       "const               1.1761   0.0178  66.0538 0.0000  1.1412  1.2110\n",
       "real_familysize    -0.0572   0.0040 -14.3447 0.0000 -0.0650 -0.0494\n",
       "-------------------------------------------------------------------\n",
       "Omnibus:              845.559       Durbin-Watson:          1.596  \n",
       "Prob(Omnibus):        0.000         Jarque-Bera (JB):       947.280\n",
       "Skew:                 0.501         Prob(JB):               0.000  \n",
       "Kurtosis:             3.214         Condition No.:          10     \n",
       "===================================================================\n",
       "\n",
       "\"\"\""
      ]
     },
     "execution_count": 163,
     "metadata": {},
     "output_type": "execute_result"
    }
   ],
   "source": [
    "model_g2_sm.summary2()"
   ]
  },
  {
   "cell_type": "code",
   "execution_count": 164,
   "id": "a73d4655",
   "metadata": {},
   "outputs": [
    {
     "data": {
      "text/html": [
       "<table class=\"simpletable\">\n",
       "<tr>\n",
       "        <td>Model:</td>               <td>OLS</td>         <td>Adj. R-squared:</td>      <td>0.008</td>  \n",
       "</tr>\n",
       "<tr>\n",
       "  <td>Dependent Variable:</td>  <td>edu_improvement</td>        <td>AIC:</td>         <td>57314.1992</td>\n",
       "</tr>\n",
       "<tr>\n",
       "         <td>Date:</td>        <td>2023-05-02 21:47</td>        <td>BIC:</td>         <td>57329.6928</td>\n",
       "</tr>\n",
       "<tr>\n",
       "   <td>No. Observations:</td>        <td>17099</td>        <td>Log-Likelihood:</td>     <td>-28655.</td> \n",
       "</tr>\n",
       "<tr>\n",
       "       <td>Df Model:</td>              <td>1</td>           <td>F-statistic:</td>        <td>131.7</td>  \n",
       "</tr>\n",
       "<tr>\n",
       "     <td>Df Residuals:</td>          <td>17097</td>      <td>Prob (F-statistic):</td>  <td>2.22e-30</td> \n",
       "</tr>\n",
       "<tr>\n",
       "      <td>R-squared:</td>            <td>0.008</td>            <td>Scale:</td>          <td>1.6718</td>  \n",
       "</tr>\n",
       "</table>\n",
       "<table class=\"simpletable\">\n",
       "<tr>\n",
       "         <td></td>          <th>Coef.</th>  <th>Std.Err.</th>     <th>t</th>     <th>P>|t|</th> <th>[0.025</th>  <th>0.975]</th> \n",
       "</tr>\n",
       "<tr>\n",
       "  <th>const</th>           <td>1.3988</td>   <td>0.0242</td>   <td>57.9154</td> <td>0.0000</td> <td>1.3514</td>  <td>1.4461</td> \n",
       "</tr>\n",
       "<tr>\n",
       "  <th>real_familysize</th> <td>-0.0560</td>  <td>0.0049</td>  <td>-11.4772</td> <td>0.0000</td> <td>-0.0656</td> <td>-0.0465</td>\n",
       "</tr>\n",
       "</table>\n",
       "<table class=\"simpletable\">\n",
       "<tr>\n",
       "     <td>Omnibus:</td>    <td>791.974</td>  <td>Durbin-Watson:</td>    <td>1.558</td> \n",
       "</tr>\n",
       "<tr>\n",
       "  <td>Prob(Omnibus):</td>  <td>0.000</td>  <td>Jarque-Bera (JB):</td> <td>909.576</td>\n",
       "</tr>\n",
       "<tr>\n",
       "       <td>Skew:</td>      <td>0.541</td>      <td>Prob(JB):</td>      <td>0.000</td> \n",
       "</tr>\n",
       "<tr>\n",
       "     <td>Kurtosis:</td>    <td>3.325</td>   <td>Condition No.:</td>     <td>12</td>   \n",
       "</tr>\n",
       "</table>"
      ],
      "text/plain": [
       "<class 'statsmodels.iolib.summary2.Summary'>\n",
       "\"\"\"\n",
       "                  Results: Ordinary least squares\n",
       "===================================================================\n",
       "Model:              OLS              Adj. R-squared:     0.008     \n",
       "Dependent Variable: edu_improvement  AIC:                57314.1992\n",
       "Date:               2023-05-02 21:47 BIC:                57329.6928\n",
       "No. Observations:   17099            Log-Likelihood:     -28655.   \n",
       "Df Model:           1                F-statistic:        131.7     \n",
       "Df Residuals:       17097            Prob (F-statistic): 2.22e-30  \n",
       "R-squared:          0.008            Scale:              1.6718    \n",
       "-------------------------------------------------------------------\n",
       "                    Coef.  Std.Err.    t     P>|t|   [0.025  0.975]\n",
       "-------------------------------------------------------------------\n",
       "const               1.3988   0.0242  57.9154 0.0000  1.3514  1.4461\n",
       "real_familysize    -0.0560   0.0049 -11.4772 0.0000 -0.0656 -0.0465\n",
       "-------------------------------------------------------------------\n",
       "Omnibus:              791.974       Durbin-Watson:          1.558  \n",
       "Prob(Omnibus):        0.000         Jarque-Bera (JB):       909.576\n",
       "Skew:                 0.541         Prob(JB):               0.000  \n",
       "Kurtosis:             3.325         Condition No.:          12     \n",
       "===================================================================\n",
       "\n",
       "\"\"\""
      ]
     },
     "execution_count": 164,
     "metadata": {},
     "output_type": "execute_result"
    }
   ],
   "source": [
    "model_g3_sm.summary2()"
   ]
  },
  {
   "cell_type": "code",
   "execution_count": 208,
   "id": "a2cf55eb",
   "metadata": {},
   "outputs": [
    {
     "name": "stdout",
     "output_type": "stream",
     "text": [
      "LR Test p-value: 0.8571\n",
      "DF difference: 1.0000\n"
     ]
    }
   ],
   "source": [
    "model3_1 = smf.ols('edu_improvement ~ if_g2g3_period + real_familysize + if_g2g3_period*real_familysize', data=df_all_period).fit()\n",
    "model3_2 = smf.ols('edu_improvement ~ if_g2g3_period + real_familysize', data=df_all_period).fit()\n",
    "\n",
    "lr_test = model3_1.compare_lr_test(model3_2)\n",
    "\n",
    "# 打印比较结果\n",
    "print(f\"LR Test p-value: {lr_test[1]:.4f}\")\n",
    "print(f\"DF difference: {lr_test[2]:.4f}\")"
   ]
  },
  {
   "cell_type": "code",
   "execution_count": 209,
   "id": "90b45ae1",
   "metadata": {},
   "outputs": [
    {
     "name": "stdout",
     "output_type": "stream",
     "text": [
      "                            OLS Regression Results                            \n",
      "==============================================================================\n",
      "Dep. Variable:        edu_improvement   R-squared:                       0.015\n",
      "Model:                            OLS   Adj. R-squared:                  0.015\n",
      "Method:                 Least Squares   F-statistic:                     293.4\n",
      "Date:                Wed, 03 May 2023   Prob (F-statistic):          3.43e-127\n",
      "Time:                        01:29:57   Log-Likelihood:                -62748.\n",
      "No. Observations:               38764   AIC:                         1.255e+05\n",
      "Df Residuals:                   38761   BIC:                         1.255e+05\n",
      "Df Model:                           2                                         \n",
      "Covariance Type:            nonrobust                                         \n",
      "===================================================================================\n",
      "                      coef    std err          t      P>|t|      [0.025      0.975]\n",
      "-----------------------------------------------------------------------------------\n",
      "Intercept           1.1741      0.015     78.599      0.000       1.145       1.203\n",
      "if_g2g3_period      0.2274      0.013     18.065      0.000       0.203       0.252\n",
      "real_familysize    -0.0567      0.003    -18.269      0.000      -0.063      -0.051\n",
      "==============================================================================\n",
      "Omnibus:                     1693.357   Durbin-Watson:                   1.577\n",
      "Prob(Omnibus):                  0.000   Jarque-Bera (JB):             1932.299\n",
      "Skew:                           0.524   Prob(JB):                         0.00\n",
      "Kurtosis:                       3.312   Cond. No.                         12.3\n",
      "==============================================================================\n",
      "\n",
      "Notes:\n",
      "[1] Standard Errors assume that the covariance matrix of the errors is correctly specified.\n"
     ]
    }
   ],
   "source": [
    "# 输出模型摘要信息\n",
    "print(model3_2.summary())"
   ]
  },
  {
   "cell_type": "code",
   "execution_count": null,
   "id": "1b81b375",
   "metadata": {},
   "outputs": [],
   "source": []
  },
  {
   "cell_type": "markdown",
   "id": "2950bb6c",
   "metadata": {},
   "source": [
    "# Education rank improvement"
   ]
  },
  {
   "cell_type": "code",
   "execution_count": 166,
   "id": "81846327",
   "metadata": {},
   "outputs": [
    {
     "data": {
      "text/html": [
       "<div>\n",
       "<style scoped>\n",
       "    .dataframe tbody tr th:only-of-type {\n",
       "        vertical-align: middle;\n",
       "    }\n",
       "\n",
       "    .dataframe tbody tr th {\n",
       "        vertical-align: top;\n",
       "    }\n",
       "\n",
       "    .dataframe thead th {\n",
       "        text-align: right;\n",
       "    }\n",
       "</style>\n",
       "<table border=\"1\" class=\"dataframe\">\n",
       "  <thead>\n",
       "    <tr style=\"text-align: right;\">\n",
       "      <th></th>\n",
       "      <th>edu_rank_improvement</th>\n",
       "    </tr>\n",
       "  </thead>\n",
       "  <tbody>\n",
       "    <tr>\n",
       "      <th>count</th>\n",
       "      <td>2.166500e+04</td>\n",
       "    </tr>\n",
       "    <tr>\n",
       "      <th>mean</th>\n",
       "      <td>-1.216792e-15</td>\n",
       "    </tr>\n",
       "    <tr>\n",
       "      <th>std</th>\n",
       "      <td>3.065573e-01</td>\n",
       "    </tr>\n",
       "    <tr>\n",
       "      <th>min</th>\n",
       "      <td>-8.130856e-01</td>\n",
       "    </tr>\n",
       "    <tr>\n",
       "      <th>25%</th>\n",
       "      <td>-1.711285e-01</td>\n",
       "    </tr>\n",
       "    <tr>\n",
       "      <th>50%</th>\n",
       "      <td>-6.452804e-02</td>\n",
       "    </tr>\n",
       "    <tr>\n",
       "      <th>75%</th>\n",
       "      <td>1.289176e-01</td>\n",
       "    </tr>\n",
       "    <tr>\n",
       "      <th>max</th>\n",
       "      <td>6.423725e-01</td>\n",
       "    </tr>\n",
       "  </tbody>\n",
       "</table>\n",
       "</div>"
      ],
      "text/plain": [
       "       edu_rank_improvement\n",
       "count          2.166500e+04\n",
       "mean          -1.216792e-15\n",
       "std            3.065573e-01\n",
       "min           -8.130856e-01\n",
       "25%           -1.711285e-01\n",
       "50%           -6.452804e-02\n",
       "75%            1.289176e-01\n",
       "max            6.423725e-01"
      ]
     },
     "execution_count": 166,
     "metadata": {},
     "output_type": "execute_result"
    }
   ],
   "source": [
    "g2_df[['edu_rank_improvement']].describe()"
   ]
  },
  {
   "cell_type": "code",
   "execution_count": 167,
   "id": "abbfeb24",
   "metadata": {},
   "outputs": [
    {
     "data": {
      "text/html": [
       "<div>\n",
       "<style scoped>\n",
       "    .dataframe tbody tr th:only-of-type {\n",
       "        vertical-align: middle;\n",
       "    }\n",
       "\n",
       "    .dataframe tbody tr th {\n",
       "        vertical-align: top;\n",
       "    }\n",
       "\n",
       "    .dataframe thead th {\n",
       "        text-align: right;\n",
       "    }\n",
       "</style>\n",
       "<table border=\"1\" class=\"dataframe\">\n",
       "  <thead>\n",
       "    <tr style=\"text-align: right;\">\n",
       "      <th></th>\n",
       "      <th>edu_rank_improvement</th>\n",
       "    </tr>\n",
       "  </thead>\n",
       "  <tbody>\n",
       "    <tr>\n",
       "      <th>count</th>\n",
       "      <td>1.709900e+04</td>\n",
       "    </tr>\n",
       "    <tr>\n",
       "      <th>mean</th>\n",
       "      <td>-3.598818e-17</td>\n",
       "    </tr>\n",
       "    <tr>\n",
       "      <th>std</th>\n",
       "      <td>3.043618e-01</td>\n",
       "    </tr>\n",
       "    <tr>\n",
       "      <th>min</th>\n",
       "      <td>-9.213989e-01</td>\n",
       "    </tr>\n",
       "    <tr>\n",
       "      <th>25%</th>\n",
       "      <td>-1.784607e-01</td>\n",
       "    </tr>\n",
       "    <tr>\n",
       "      <th>50%</th>\n",
       "      <td>-3.520674e-02</td>\n",
       "    </tr>\n",
       "    <tr>\n",
       "      <th>75%</th>\n",
       "      <td>1.434002e-01</td>\n",
       "    </tr>\n",
       "    <tr>\n",
       "      <th>max</th>\n",
       "      <td>8.944675e-01</td>\n",
       "    </tr>\n",
       "  </tbody>\n",
       "</table>\n",
       "</div>"
      ],
      "text/plain": [
       "       edu_rank_improvement\n",
       "count          1.709900e+04\n",
       "mean          -3.598818e-17\n",
       "std            3.043618e-01\n",
       "min           -9.213989e-01\n",
       "25%           -1.784607e-01\n",
       "50%           -3.520674e-02\n",
       "75%            1.434002e-01\n",
       "max            8.944675e-01"
      ]
     },
     "execution_count": 167,
     "metadata": {},
     "output_type": "execute_result"
    }
   ],
   "source": [
    "g3_df[['edu_rank_improvement']].describe()"
   ]
  },
  {
   "cell_type": "code",
   "execution_count": 168,
   "id": "99a42c1a",
   "metadata": {},
   "outputs": [
    {
     "name": "stdout",
     "output_type": "stream",
     "text": [
      "t value is： 6.3784297750409764e-15\n",
      "p value is： 0.9999999999999949\n"
     ]
    }
   ],
   "source": [
    "t, p = ttest_ind(g2_df['edu_rank_improvement'], g3_df['edu_rank_improvement'])\n",
    "\n",
    "print(\"t value is：\", t)\n",
    "print(\"p value is：\", p)"
   ]
  },
  {
   "cell_type": "code",
   "execution_count": 224,
   "id": "474cd330",
   "metadata": {},
   "outputs": [
    {
     "data": {
      "image/png": "[encoded data removed]",
      "text/plain": [
       "<Figure size 432x288 with 1 Axes>"
      ]
     },
     "metadata": {
      "needs_background": "light"
     },
     "output_type": "display_data"
    }
   ],
   "source": [
    "plt.hist(g2_df['edu_rank_improvement'], alpha=0.5, label='g1-g2', density = True)\n",
    "plt.hist(g3_df['edu_rank_improvement'], alpha=0.5, label='g2-g3', density = True)\n",
    "plt.legend(loc='upper right')\n",
    "plt.title('Distribution of education rank improvement')\n",
    "plt.xlabel('Edu_rank_improve')\n",
    "plt.ylabel('Freq')\n",
    "plt.show()"
   ]
  },
  {
   "cell_type": "markdown",
   "id": "272baa5e",
   "metadata": {},
   "source": [
    "## Gender"
   ]
  },
  {
   "cell_type": "code",
   "execution_count": 210,
   "id": "ed6f5b5d",
   "metadata": {},
   "outputs": [
    {
     "data": {
      "image/png": "[encoded data removed]",
      "text/plain": [
       "<Figure size 432x288 with 1 Axes>"
      ]
     },
     "metadata": {
      "needs_background": "light"
     },
     "output_type": "display_data"
    }
   ],
   "source": [
    "sns.violinplot(x='group', y='edu_rank_improvement', hue='gender', data=data, split=True)\n",
    "plt.title('Distribution of intergenerational education rank improvement by gender')\n",
    "plt.xlabel('Period')\n",
    "\n",
    "# Show the plot\n",
    "plt.show()"
   ]
  },
  {
   "cell_type": "code",
   "execution_count": 211,
   "id": "b471ac6b",
   "metadata": {},
   "outputs": [
    {
     "data": {
      "image/png": "[encoded data removed]",
      "text/plain": [
       "<Figure size 432x288 with 1 Axes>"
      ]
     },
     "metadata": {
      "needs_background": "light"
     },
     "output_type": "display_data"
    }
   ],
   "source": [
    "sns.barplot(x='group', y='edu_rank_improvement', hue='gender', data=data, ci=95, errcolor='red', errwidth=2)\n",
    "plt.title('Intergenerational education rank improvement by gender')\n",
    "plt.xlabel('Period')\n",
    "\n",
    "# Show the plot\n",
    "plt.show()"
   ]
  },
  {
   "cell_type": "code",
   "execution_count": null,
   "id": "1bf309f7",
   "metadata": {},
   "outputs": [],
   "source": []
  },
  {
   "cell_type": "code",
   "execution_count": 212,
   "id": "8c1667ee",
   "metadata": {},
   "outputs": [
    {
     "name": "stdout",
     "output_type": "stream",
     "text": [
      "LR Test p-value: 0.0000\n",
      "DF difference: 1.0000\n"
     ]
    }
   ],
   "source": [
    "model4_1 = smf.ols('edu_rank_improvement ~ if_g2g3_period + gender + if_g2g3_period*gender', data=df_all_period).fit()\n",
    "model4_2 = smf.ols('edu_rank_improvement ~ if_g2g3_period + gender', data=df_all_period).fit()\n",
    "\n",
    "lr_test = model4_1.compare_lr_test(model4_2)\n",
    "\n",
    "# 打印比较结果\n",
    "print(f\"LR Test p-value: {lr_test[1]:.4f}\")\n",
    "print(f\"DF difference: {lr_test[2]:.4f}\")"
   ]
  },
  {
   "cell_type": "code",
   "execution_count": 213,
   "id": "d88fa354",
   "metadata": {},
   "outputs": [
    {
     "name": "stdout",
     "output_type": "stream",
     "text": [
      "                       Results: Ordinary least squares\n",
      "==============================================================================\n",
      "Model:                 OLS                    Adj. R-squared:       0.020     \n",
      "Dependent Variable:    edu_rank_improvement   AIC:                  17320.9561\n",
      "Date:                  2023-05-03 01:48       BIC:                  17355.2171\n",
      "No. Observations:      38764                  Log-Likelihood:       -8656.5   \n",
      "Df Model:              3                      F-statistic:          263.4     \n",
      "Df Residuals:          38760                  Prob (F-statistic):   2.90e-169 \n",
      "R-squared:             0.020                  Scale:                0.091524  \n",
      "------------------------------------------------------------------------------\n",
      "                               Coef.  Std.Err.    t     P>|t|   [0.025  0.975]\n",
      "------------------------------------------------------------------------------\n",
      "Intercept                     -0.0551   0.0029 -18.9500 0.0000 -0.0608 -0.0494\n",
      "gender[T.Male]                 0.1100   0.0041  26.7690 0.0000  0.1020  0.1181\n",
      "if_g2g3_period                 0.0348   0.0044   7.9082 0.0000  0.0262  0.0435\n",
      "if_g2g3_period:gender[T.Male] -0.0703   0.0062 -11.3573 0.0000 -0.0824 -0.0582\n",
      "------------------------------------------------------------------------------\n",
      "Omnibus:                 124.635           Durbin-Watson:              1.694  \n",
      "Prob(Omnibus):           0.000             Jarque-Bera (JB):           105.906\n",
      "Skew:                    0.071             Prob(JB):                   0.000  \n",
      "Kurtosis:                2.786             Condition No.:              7      \n",
      "==============================================================================\n",
      "\n"
     ]
    }
   ],
   "source": [
    "# 输出模型摘要信息\n",
    "print(model4_1.summary2())"
   ]
  },
  {
   "cell_type": "markdown",
   "id": "481be357",
   "metadata": {},
   "source": [
    "## Living Area"
   ]
  },
  {
   "cell_type": "code",
   "execution_count": 214,
   "id": "7025053d",
   "metadata": {},
   "outputs": [
    {
     "data": {
      "image/png": "[encoded data removed]",
      "text/plain": [
       "<Figure size 432x288 with 1 Axes>"
      ]
     },
     "metadata": {
      "needs_background": "light"
     },
     "output_type": "display_data"
    }
   ],
   "source": [
    "sns.violinplot(x='group', y='edu_rank_improvement', hue='living_area', data=data, split=True)\n",
    "plt.title('Distribution of intergenerational education rank improvement by living area')\n",
    "plt.xlabel('Period')\n",
    "\n",
    "# Show the plot\n",
    "plt.show()"
   ]
  },
  {
   "cell_type": "code",
   "execution_count": 216,
   "id": "66e32aac",
   "metadata": {},
   "outputs": [
    {
     "data": {
      "image/png": "[encoded data removed]",
      "text/plain": [
       "<Figure size 432x288 with 1 Axes>"
      ]
     },
     "metadata": {
      "needs_background": "light"
     },
     "output_type": "display_data"
    }
   ],
   "source": [
    "sns.barplot(x='group', y='edu_rank_improvement', hue='living_area', data=data)\n",
    "plt.title('Intergenerational education rank improvement by living area')\n",
    "plt.xlabel('Period')\n",
    "\n",
    "# Show the plot\n",
    "plt.show()"
   ]
  },
  {
   "cell_type": "code",
   "execution_count": 217,
   "id": "4d6140b4",
   "metadata": {},
   "outputs": [
    {
     "name": "stdout",
     "output_type": "stream",
     "text": [
      "LR Test p-value: 0.0000\n",
      "DF difference: 1.0000\n"
     ]
    }
   ],
   "source": [
    "model5_1 = smf.ols('edu_rank_improvement ~ if_g2g3_period + living_area + if_g2g3_period*living_area', data=df_all_period).fit()\n",
    "model5_2 = smf.ols('edu_rank_improvement ~ if_g2g3_period + living_area', data=df_all_period).fit()\n",
    "\n",
    "lr_test = model5_1.compare_lr_test(model5_2)\n",
    "\n",
    "# 打印比较结果\n",
    "print(f\"LR Test p-value: {lr_test[1]:.4f}\")\n",
    "print(f\"DF difference: {lr_test[2]:.4f}\")"
   ]
  },
  {
   "cell_type": "code",
   "execution_count": 218,
   "id": "78168625",
   "metadata": {},
   "outputs": [
    {
     "name": "stdout",
     "output_type": "stream",
     "text": [
      "                          Results: Ordinary least squares\n",
      "====================================================================================\n",
      "Model:                   OLS                      Adj. R-squared:         0.028     \n",
      "Dependent Variable:      edu_rank_improvement     AIC:                    17000.5118\n",
      "Date:                    2023-05-03 01:55         BIC:                    17034.7728\n",
      "No. Observations:        38764                    Log-Likelihood:         -8496.3   \n",
      "Df Model:                3                        F-statistic:            372.9     \n",
      "Df Residuals:            38760                    Prob (F-statistic):     9.12e-239 \n",
      "R-squared:               0.028                    Scale:                  0.090771  \n",
      "------------------------------------------------------------------------------------\n",
      "                                     Coef.  Std.Err.    t     P>|t|   [0.025  0.975]\n",
      "------------------------------------------------------------------------------------\n",
      "Intercept                           -0.0530   0.0028 -19.1304 0.0000 -0.0584 -0.0475\n",
      "living_area[T.urban]                 0.1168   0.0041  28.4049 0.0000  0.1087  0.1248\n",
      "if_g2g3_period                       0.0146   0.0042   3.4712 0.0005  0.0064  0.0228\n",
      "if_g2g3_period:living_area[T.urban] -0.0353   0.0062  -5.7082 0.0000 -0.0474 -0.0232\n",
      "------------------------------------------------------------------------------------\n",
      "Omnibus:                   126.208             Durbin-Watson:                1.770  \n",
      "Prob(Omnibus):             0.000               Jarque-Bera (JB):             104.354\n",
      "Skew:                      0.060               Prob(JB):                     0.000  \n",
      "Kurtosis:                  2.776               Condition No.:                6      \n",
      "====================================================================================\n",
      "\n"
     ]
    }
   ],
   "source": [
    "# 输出模型摘要信息\n",
    "print(model5_1.summary2())"
   ]
  },
  {
   "cell_type": "markdown",
   "id": "9b462df0",
   "metadata": {},
   "source": [
    "## Family size"
   ]
  },
  {
   "cell_type": "code",
   "execution_count": 175,
   "id": "19169de3",
   "metadata": {},
   "outputs": [],
   "source": [
    "X_g2 = g2_df[['real_familysize']]\n",
    "y_g2 = g2_df['edu_rank_improvement']\n",
    "\n",
    "X_g3 = g3_df[['real_familysize']]\n",
    "y_g3 = g3_df['edu_rank_improvement']"
   ]
  },
  {
   "cell_type": "code",
   "execution_count": 176,
   "id": "0b3d59dd",
   "metadata": {},
   "outputs": [
    {
     "data": {
      "text/plain": [
       "LinearRegression()"
      ]
     },
     "execution_count": 176,
     "metadata": {},
     "output_type": "execute_result"
    }
   ],
   "source": [
    "model_g2_rank = LinearRegression()\n",
    "\n",
    "model_g2_rank.fit(X_g2, y_g2)\n",
    "\n",
    "model_g3_rank = LinearRegression()\n",
    "\n",
    "model_g3_rank.fit(X_g3, y_g3)"
   ]
  },
  {
   "cell_type": "code",
   "execution_count": 177,
   "id": "d0eff34d",
   "metadata": {},
   "outputs": [
    {
     "data": {
      "image/png": "[encoded data removed]",
      "text/plain": [
       "<Figure size 432x288 with 1 Axes>"
      ]
     },
     "metadata": {
      "needs_background": "light"
     },
     "output_type": "display_data"
    }
   ],
   "source": [
    "plt.scatter(X_g2, y_g2, alpha=0.3)\n",
    "\n",
    "plt.plot(X_g2, model_g2_rank.predict(X_g2), color='r')\n",
    "\n",
    "plt.xlabel('Family size')\n",
    "plt.ylabel('Education rank improvement')\n",
    "plt.show()"
   ]
  },
  {
   "cell_type": "code",
   "execution_count": 178,
   "id": "bcffd56e",
   "metadata": {},
   "outputs": [
    {
     "data": {
      "image/png": "[encoded data removed]",
      "text/plain": [
       "<Figure size 432x288 with 1 Axes>"
      ]
     },
     "metadata": {
      "needs_background": "light"
     },
     "output_type": "display_data"
    }
   ],
   "source": [
    "plt.scatter(X_g3, y_g3, alpha=0.3)\n",
    "plt.plot(X_g3, model_g3_rank.predict(X_g3), color='g')\n",
    "plt.xlabel('Family size')\n",
    "plt.ylabel('Education rank improvement')\n",
    "plt.show()"
   ]
  },
  {
   "cell_type": "code",
   "execution_count": 179,
   "id": "c7c365e4",
   "metadata": {},
   "outputs": [
    {
     "data": {
      "text/html": [
       "<table class=\"simpletable\">\n",
       "<tr>\n",
       "        <td>Model:</td>                 <td>OLS</td>           <td>Adj. R-squared:</td>      <td>0.004</td>  \n",
       "</tr>\n",
       "<tr>\n",
       "  <td>Dependent Variable:</td> <td>edu_rank_improvement</td>        <td>AIC:</td>         <td>10166.5717</td>\n",
       "</tr>\n",
       "<tr>\n",
       "         <td>Date:</td>          <td>2023-05-03 00:33</td>          <td>BIC:</td>         <td>10182.5386</td>\n",
       "</tr>\n",
       "<tr>\n",
       "   <td>No. Observations:</td>          <td>21665</td>          <td>Log-Likelihood:</td>     <td>-5081.3</td> \n",
       "</tr>\n",
       "<tr>\n",
       "       <td>Df Model:</td>                <td>1</td>             <td>F-statistic:</td>        <td>87.96</td>  \n",
       "</tr>\n",
       "<tr>\n",
       "     <td>Df Residuals:</td>            <td>21663</td>        <td>Prob (F-statistic):</td>  <td>7.33e-21</td> \n",
       "</tr>\n",
       "<tr>\n",
       "      <td>R-squared:</td>              <td>0.004</td>              <td>Scale:</td>         <td>0.093602</td> \n",
       "</tr>\n",
       "</table>\n",
       "<table class=\"simpletable\">\n",
       "<tr>\n",
       "         <td></td>          <th>Coef.</th>  <th>Std.Err.</th>    <th>t</th>     <th>P>|t|</th> <th>[0.025</th>  <th>0.975]</th> \n",
       "</tr>\n",
       "<tr>\n",
       "  <th>const</th>           <td>0.0394</td>   <td>0.0047</td>  <td>8.4073</td>  <td>0.0000</td> <td>0.0302</td>  <td>0.0486</td> \n",
       "</tr>\n",
       "<tr>\n",
       "  <th>real_familysize</th> <td>-0.0098</td>  <td>0.0010</td>  <td>-9.3785</td> <td>0.0000</td> <td>-0.0119</td> <td>-0.0078</td>\n",
       "</tr>\n",
       "</table>\n",
       "<table class=\"simpletable\">\n",
       "<tr>\n",
       "     <td>Omnibus:</td>    <td>97.041</td>  <td>Durbin-Watson:</td>    <td>1.753</td>\n",
       "</tr>\n",
       "<tr>\n",
       "  <td>Prob(Omnibus):</td>  <td>0.000</td> <td>Jarque-Bera (JB):</td> <td>71.433</td>\n",
       "</tr>\n",
       "<tr>\n",
       "       <td>Skew:</td>      <td>0.006</td>     <td>Prob(JB):</td>      <td>0.000</td>\n",
       "</tr>\n",
       "<tr>\n",
       "     <td>Kurtosis:</td>    <td>2.719</td>  <td>Condition No.:</td>     <td>10</td>  \n",
       "</tr>\n",
       "</table>"
      ],
      "text/plain": [
       "<class 'statsmodels.iolib.summary2.Summary'>\n",
       "\"\"\"\n",
       "                    Results: Ordinary least squares\n",
       "=======================================================================\n",
       "Model:              OLS                  Adj. R-squared:     0.004     \n",
       "Dependent Variable: edu_rank_improvement AIC:                10166.5717\n",
       "Date:               2023-05-03 00:33     BIC:                10182.5386\n",
       "No. Observations:   21665                Log-Likelihood:     -5081.3   \n",
       "Df Model:           1                    F-statistic:        87.96     \n",
       "Df Residuals:       21663                Prob (F-statistic): 7.33e-21  \n",
       "R-squared:          0.004                Scale:              0.093602  \n",
       "------------------------------------------------------------------------\n",
       "                     Coef.   Std.Err.     t     P>|t|    [0.025   0.975]\n",
       "------------------------------------------------------------------------\n",
       "const                0.0394    0.0047   8.4073  0.0000   0.0302   0.0486\n",
       "real_familysize     -0.0098    0.0010  -9.3785  0.0000  -0.0119  -0.0078\n",
       "-----------------------------------------------------------------------\n",
       "Omnibus:                97.041         Durbin-Watson:            1.753 \n",
       "Prob(Omnibus):          0.000          Jarque-Bera (JB):         71.433\n",
       "Skew:                   0.006          Prob(JB):                 0.000 \n",
       "Kurtosis:               2.719          Condition No.:            10    \n",
       "=======================================================================\n",
       "\n",
       "\"\"\""
      ]
     },
     "execution_count": 179,
     "metadata": {},
     "output_type": "execute_result"
    }
   ],
   "source": [
    "X_g2 = sm.add_constant(X_g2) # 加上常数项\n",
    "model_g2_rank_sm = sm.OLS(y_g2, X_g2).fit()\n",
    "\n",
    "model_g2_rank_sm.summary2()"
   ]
  },
  {
   "cell_type": "code",
   "execution_count": 180,
   "id": "60dde6eb",
   "metadata": {},
   "outputs": [
    {
     "data": {
      "text/html": [
       "<table class=\"simpletable\">\n",
       "<tr>\n",
       "        <td>Model:</td>                 <td>OLS</td>           <td>Adj. R-squared:</td>     <td>0.001</td>  \n",
       "</tr>\n",
       "<tr>\n",
       "  <td>Dependent Variable:</td> <td>edu_rank_improvement</td>        <td>AIC:</td>         <td>7828.9191</td>\n",
       "</tr>\n",
       "<tr>\n",
       "         <td>Date:</td>          <td>2023-05-03 00:34</td>          <td>BIC:</td>         <td>7844.4127</td>\n",
       "</tr>\n",
       "<tr>\n",
       "   <td>No. Observations:</td>          <td>17099</td>          <td>Log-Likelihood:</td>    <td>-3912.5</td> \n",
       "</tr>\n",
       "<tr>\n",
       "       <td>Df Model:</td>                <td>1</td>             <td>F-statistic:</td>       <td>19.13</td>  \n",
       "</tr>\n",
       "<tr>\n",
       "     <td>Df Residuals:</td>            <td>17097</td>        <td>Prob (F-statistic):</td> <td>1.23e-05</td> \n",
       "</tr>\n",
       "<tr>\n",
       "      <td>R-squared:</td>              <td>0.001</td>              <td>Scale:</td>        <td>0.092538</td> \n",
       "</tr>\n",
       "</table>\n",
       "<table class=\"simpletable\">\n",
       "<tr>\n",
       "         <td></td>          <th>Coef.</th>  <th>Std.Err.</th>    <th>t</th>     <th>P>|t|</th> <th>[0.025</th>  <th>0.975]</th> \n",
       "</tr>\n",
       "<tr>\n",
       "  <th>const</th>           <td>0.0227</td>   <td>0.0057</td>  <td>3.9900</td>  <td>0.0001</td> <td>0.0115</td>  <td>0.0338</td> \n",
       "</tr>\n",
       "<tr>\n",
       "  <th>real_familysize</th> <td>-0.0050</td>  <td>0.0011</td>  <td>-4.3733</td> <td>0.0000</td> <td>-0.0073</td> <td>-0.0028</td>\n",
       "</tr>\n",
       "</table>\n",
       "<table class=\"simpletable\">\n",
       "<tr>\n",
       "     <td>Omnibus:</td>    <td>107.264</td>  <td>Durbin-Watson:</td>    <td>1.706</td> \n",
       "</tr>\n",
       "<tr>\n",
       "  <td>Prob(Omnibus):</td>  <td>0.000</td>  <td>Jarque-Bera (JB):</td> <td>102.272</td>\n",
       "</tr>\n",
       "<tr>\n",
       "       <td>Skew:</td>      <td>0.163</td>      <td>Prob(JB):</td>      <td>0.000</td> \n",
       "</tr>\n",
       "<tr>\n",
       "     <td>Kurtosis:</td>    <td>2.806</td>   <td>Condition No.:</td>     <td>12</td>   \n",
       "</tr>\n",
       "</table>"
      ],
      "text/plain": [
       "<class 'statsmodels.iolib.summary2.Summary'>\n",
       "\"\"\"\n",
       "                   Results: Ordinary least squares\n",
       "======================================================================\n",
       "Model:              OLS                  Adj. R-squared:     0.001    \n",
       "Dependent Variable: edu_rank_improvement AIC:                7828.9191\n",
       "Date:               2023-05-03 00:34     BIC:                7844.4127\n",
       "No. Observations:   17099                Log-Likelihood:     -3912.5  \n",
       "Df Model:           1                    F-statistic:        19.13    \n",
       "Df Residuals:       17097                Prob (F-statistic): 1.23e-05 \n",
       "R-squared:          0.001                Scale:              0.092538 \n",
       "-----------------------------------------------------------------------\n",
       "                    Coef.   Std.Err.     t     P>|t|    [0.025   0.975]\n",
       "-----------------------------------------------------------------------\n",
       "const               0.0227    0.0057   3.9900  0.0001   0.0115   0.0338\n",
       "real_familysize    -0.0050    0.0011  -4.3733  0.0000  -0.0073  -0.0028\n",
       "----------------------------------------------------------------------\n",
       "Omnibus:               107.264        Durbin-Watson:           1.706  \n",
       "Prob(Omnibus):         0.000          Jarque-Bera (JB):        102.272\n",
       "Skew:                  0.163          Prob(JB):                0.000  \n",
       "Kurtosis:              2.806          Condition No.:           12     \n",
       "======================================================================\n",
       "\n",
       "\"\"\""
      ]
     },
     "execution_count": 180,
     "metadata": {},
     "output_type": "execute_result"
    }
   ],
   "source": [
    "X_g3 = sm.add_constant(X_g3) # 加上常数项\n",
    "model_g3_rank_sm = sm.OLS(y_g3, X_g3).fit()\n",
    "model_g3_rank_sm.summary2()"
   ]
  },
  {
   "cell_type": "code",
   "execution_count": 219,
   "id": "338f5de9",
   "metadata": {},
   "outputs": [
    {
     "name": "stdout",
     "output_type": "stream",
     "text": [
      "LR Test p-value: 0.0020\n",
      "DF difference: 1.0000\n"
     ]
    }
   ],
   "source": [
    "model6_1 = smf.ols('edu_rank_improvement ~ if_g2g3_period + real_familysize + if_g2g3_period*real_familysize', data=df_all_period).fit()\n",
    "\n",
    "model6_2 = smf.ols('edu_rank_improvement ~ if_g2g3_period + real_familysize', data=df_all_period).fit()\n",
    "\n",
    "lr_test = model6_1.compare_lr_test(model6_2)\n",
    "\n",
    "# 打印比较结果\n",
    "print(f\"LR Test p-value: {lr_test[1]:.4f}\")\n",
    "print(f\"DF difference: {lr_test[2]:.4f}\")"
   ]
  },
  {
   "cell_type": "code",
   "execution_count": 220,
   "id": "a920e93f",
   "metadata": {},
   "outputs": [
    {
     "name": "stdout",
     "output_type": "stream",
     "text": [
      "                       Results: Ordinary least squares\n",
      "==============================================================================\n",
      "Model:                 OLS                    Adj. R-squared:       0.003     \n",
      "Dependent Variable:    edu_rank_improvement   AIC:                  17996.1174\n",
      "Date:                  2023-05-03 01:57       BIC:                  18030.3784\n",
      "No. Observations:      38764                  Log-Likelihood:       -8994.1   \n",
      "Df Model:              3                      F-statistic:          35.80     \n",
      "Df Residuals:          38760                  Prob (F-statistic):   4.27e-23  \n",
      "R-squared:             0.003                  Scale:                0.093133  \n",
      "------------------------------------------------------------------------------\n",
      "                                Coef.  Std.Err.    t    P>|t|   [0.025  0.975]\n",
      "------------------------------------------------------------------------------\n",
      "Intercept                       0.0394   0.0047  8.4285 0.0000  0.0303  0.0486\n",
      "if_g2g3_period                 -0.0168   0.0074 -2.2730 0.0230 -0.0312 -0.0023\n",
      "real_familysize                -0.0098   0.0010 -9.4021 0.0000 -0.0119 -0.0078\n",
      "if_g2g3_period:real_familysize  0.0048   0.0016  3.0962 0.0020  0.0018  0.0079\n",
      "------------------------------------------------------------------------------\n",
      "Omnibus:                 160.015           Durbin-Watson:              1.732  \n",
      "Prob(Omnibus):           0.000             Jarque-Bera (JB):           131.485\n",
      "Skew:                    0.075             Prob(JB):                   0.000  \n",
      "Kurtosis:                2.757             Condition No.:              29     \n",
      "==============================================================================\n",
      "\n"
     ]
    }
   ],
   "source": [
    "print(model6_1.summary2())"
   ]
  },
  {
   "cell_type": "code",
   "execution_count": null,
   "id": "c599b2b1",
   "metadata": {},
   "outputs": [],
   "source": []
  }
 ],
 "metadata": {
  "kernelspec": {
   "display_name": "Python 3 (ipykernel)",
   "language": "python",
   "name": "python3"
  },
  "language_info": {
   "codemirror_mode": {
    "name": "ipython",
    "version": 3
   },
   "file_extension": ".py",
   "mimetype": "text/x-python",
   "name": "python",
   "nbconvert_exporter": "python",
   "pygments_lexer": "ipython3",
   "version": "3.7.3"
  }
 },
 "nbformat": 4,
 "nbformat_minor": 5
}
